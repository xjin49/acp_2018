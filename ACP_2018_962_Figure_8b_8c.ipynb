{
 "cells": [
  {
   "cell_type": "code",
   "execution_count": 1,
   "metadata": {
    "scrolled": true
   },
   "outputs": [
    {
     "name": "stderr",
     "output_type": "stream",
     "text": [
      "/home/xjin/anaconda3/envs/geo_scipy/lib/python3.6/site-packages/statsmodels/compat/pandas.py:56: FutureWarning: The pandas.core.datetools module is deprecated and will be removed in a future version. Please use the pandas.tseries module instead.\n",
      "  from pandas.core import datetools\n"
     ]
    }
   ],
   "source": [
    "import pandas as pd\n",
    "import numpy as np\n",
    "from matplotlib import pyplot as plt\n",
    "%matplotlib inline\n",
    "import statsmodels.api as sm\n",
    "import statsmodels.formula.api as smf\n",
    "import seaborn as sns\n",
    "import scipy.interpolate\n",
    "import dask.dataframe as dd"
   ]
  },
  {
   "cell_type": "code",
   "execution_count": 2,
   "metadata": {},
   "outputs": [],
   "source": [
    "import warnings\n",
    "warnings.filterwarnings('ignore')"
   ]
  },
  {
   "cell_type": "code",
   "execution_count": 3,
   "metadata": {},
   "outputs": [],
   "source": [
    "DIR = '/d3jsb/xjin/Plots/AQI_Evaluation/'\n",
    "df_CMAQ = pd.read_csv(DIR+'CMAQ_extract_PM_AOD_six_zones_KAPM.csv')\n",
    "data_merge = pd.read_csv(DIR+'Discover_AQ_data_merge_KAPM.csv')"
   ]
  },
  {
   "cell_type": "markdown",
   "metadata": {},
   "source": [
    "## AERONET AOD data"
   ]
  },
  {
   "cell_type": "code",
   "execution_count": 4,
   "metadata": {},
   "outputs": [],
   "source": [
    "DIR = '/d3jsb/xjin/Plots/AOD_Comparison/'\n",
    "data_aero = pd.read_csv(DIR +'MAIAC_CMAQ_SIP_AERONET_comparison_daily_all_together_NEUS_three_AOD_algorithms_001flex_KAPM_clear_land_adj_winter_filter.csv')\n",
    "data_aero['lat'] =data_aero['lat'].round(1)\n",
    "\n",
    "data_aero['lon'] =data_aero['lon'].round(1)\n",
    "\n",
    "data_aero.loc[data_aero['MAIAC_AOD'] < 0,'MAIAC_AOD'] = np.nan\n",
    "data_aero.loc[data_aero['AOD_551'] < 0,'AOD_551'] = np.nan"
   ]
  },
  {
   "cell_type": "markdown",
   "metadata": {},
   "source": [
    "## AQS data"
   ]
  },
  {
   "cell_type": "code",
   "execution_count": 5,
   "metadata": {},
   "outputs": [],
   "source": [
    "DIR = '/d3jsb/xjin/Plots/AQI_Evaluation/'\n",
    "data_aqs = pd.read_csv(DIR +'CMAQ_SIP_PM25_001_AQI_comparison_NEUS_88101flex_KAPM_clear_land_adj_winter_filter.csv')\n",
    "data_aqs['lat'] = data_aqs['lat'].round(1)\n",
    "data_aqs['lon'] = data_aqs['lon'].round(1)\n",
    "\n",
    "data_aqs.loc[data_aqs['MAIAC_PM'] < 0,'MAIAC_PM'] = np.nan\n",
    "data_aqs.loc[data_aqs['MAIAC_PM'] < 0,'MAIAC_PM'] = np.nan"
   ]
  },
  {
   "cell_type": "code",
   "execution_count": 6,
   "metadata": {},
   "outputs": [],
   "source": [
    "uni_JDAY = data_merge['day'].unique()\n",
    "zone_arr = np.arange(1,7)\n",
    "lat_arr = [39.2, 39.5, 39.6, 39.7, 39.4, 39.3]\n",
    "lon_arr = [-76.6, -76.6, -76.2, -75.8, -76.3, -76.5]\n",
    "\n",
    "# df_CMAQ['CMAQ_EXT_Aircraft_SULF'] = df_CMAQ.AOT_SULF/df_CMAQ.BOXH*1000.\n",
    "# df_CMAQ['CMAQ_EXT_Aircraft_OC'] = df_CMAQ.AOT_OC/df_CMAQ.BOXH*1000.\n",
    "# df_CMAQ['CMAQ_EXT_Aircraft_BC'] = df_CMAQ.AOT_BC/df_CMAQ.BOXH*1000.\n",
    "for jday in uni_JDAY:\n",
    "    for izone,ilat,ilon in zip(zone_arr,lat_arr,lon_arr):\n",
    "        data_jday = data_merge[(data_merge['day'] == jday) & (data_merge['zone'] == izone)]\n",
    "        data_composite = data_jday.groupby(['ind_ALT']).mean()  \n",
    "    #     data_composite = data_composite.reset_index()\n",
    "    #     alt_uni = data_composite.ind_ALT.unique()\n",
    "        for index, row in data_composite.iterrows():\n",
    "            df_CMAQ.loc[(df_CMAQ['day'] == jday) &  (df_CMAQ['zone'] == izone) &  (df_CMAQ['ind_ALT'] == index), 'EXTamb'] =row.EXTamb\n",
    "            df_CMAQ.loc[(df_CMAQ['day'] == jday) &  (df_CMAQ['zone'] == izone) &  (df_CMAQ['ind_ALT'] == index), 'EXTdry'] =row.EXTdry\n",
    "#             df_CMAQ.loc[(df_CMAQ['day'] == jday) &  (df_CMAQ['zone'] == izone) &  (df_CMAQ['ind_ALT'] == index), 'CMAQ_EXT_Aircraft_OC'] = df_CMAQ.AOT_OC/df_CMAQ.CONC_OC*row.OC/df_CMAQ.BOXH*1000.\n",
    "#             df_CMAQ.loc[(df_CMAQ['day'] == jday) &  (df_CMAQ['zone'] == izone) &  (df_CMAQ['ind_ALT'] == index), 'CMAQ_EXT_Aircraft_BC'] = df_CMAQ.AOT_BC/df_CMAQ.CONC_BC*row.BC/df_CMAQ.BOXH*1000.\n",
    "#         df_CMAQ['CMAQ_EXT_Aircraft_Mass'][index] = df_CMAQ.CMAQ_EXT_SULF_factor*data_merge.SULF + data_merge.CMAQ_EXT_OC_factor*data_merge.OC + data_merge.CMAQ_EXT_BC_factor*data_merge.BC\n"
   ]
  },
  {
   "cell_type": "code",
   "execution_count": 7,
   "metadata": {},
   "outputs": [],
   "source": [
    "var_arr = ['SULF','OC','BC']\n",
    "for jday in uni_JDAY:\n",
    "    for izone,ilat,ilon in zip(zone_arr,lat_arr,lon_arr):\n",
    "        data_jday = data_merge[(data_merge['day'] == jday) & (data_merge['zone'] == izone)]\n",
    "        data_composite = data_jday.groupby(['ind_ALT']).mean()  \n",
    "        for iv in var_arr:\n",
    "#     data_composite = data_composite.reset_index()\n",
    "#     alt_uni = data_composite.ind_ALT.unique()\n",
    "            for index, row in data_composite.iterrows():\n",
    "                df_CMAQ.loc[(df_CMAQ['day'] == jday) &  (df_CMAQ['zone'] == izone)&  (df_CMAQ['ind_ALT'] == index), 'EXTamb_interp'] = row.EXTamb\n",
    "                #         df_CMAQ['CMAQ_EXT_Aircraft_Mass'][index] = df_CMAQ.CMAQ_EXT_SULF_factor*data_merge.SULF + data_merge.CMAQ_EXT_OC_factor*data_merge.OC + data_merge.CMAQ_EXT_BC_factor*data_merge.BC\n",
    "            df_judge = df_CMAQ.loc[(df_CMAQ['day'] == jday) &  (df_CMAQ['zone'] == izone) &  (df_CMAQ['Alt']<= 4)]\n",
    "#             if not df_judge['CMAQ_EXT_Aircraft_'+iv+'_interp'].isnull().all():\n",
    "            df_CMAQ.loc[(df_CMAQ['day'] == jday) &  (df_CMAQ['zone'] == izone)&  (df_CMAQ['Alt']>4), 'EXTamb_interp'] = df_CMAQ['AOT_'+iv]/df_CMAQ.BOXH*1000.\n",
    "            df_sub = df_CMAQ.loc[(df_CMAQ['day'] == jday) &  (df_CMAQ['zone'] == izone)]\n",
    "            df_CMAQ.loc[(df_CMAQ['day'] == jday) &  (df_CMAQ['zone'] == izone), 'EXTamb_interp'] = df_sub['EXTamb_interp'].interpolate(limit_direction = 'both', method = 'linear')\n",
    "# df_CMAQ['CMAQ_EXT_Aircraft_BC_interp'] = df_CMAQ['CMAQ_EXT_Aircraft_BC_interp'].fillna(0)\n",
    "# df_CMAQ['CMAQ_EXT_Aircraft_OC_interp'] = df_CMAQ['CMAQ_EXT_Aircraft_OC_interp'].fillna(0)\n",
    "# df_CMAQ['CMAQ_EXT_Aircraft_SULF_interp'] = df_CMAQ['CMAQ_EXT_Aircraft_SULF_interp'].fillna(0)"
   ]
  },
  {
   "cell_type": "code",
   "execution_count": 8,
   "metadata": {},
   "outputs": [],
   "source": [
    "for jday in uni_JDAY:\n",
    "    for izone,ilat,ilon in zip(zone_arr,lat_arr,lon_arr):\n",
    "        data_jday = data_merge[(data_merge['day'] == jday) & (data_merge['zone'] == izone)]\n",
    "        data_composite = data_jday.groupby(['ind_ALT']).mean()  \n",
    "        for iv in var_arr:\n",
    "#     data_composite = data_composite.reset_index()\n",
    "#     alt_uni = data_composite.ind_ALT.unique()\n",
    "            for index, row in data_composite.iterrows():\n",
    "                df_CMAQ.loc[(df_CMAQ['day'] == jday) &  (df_CMAQ['zone'] == izone)&  (df_CMAQ['ind_ALT'] == index), 'EXTdry_interp'] = row.EXTdry\n",
    "                #         df_CMAQ['CMAQ_EXT_Aircraft_Mass'][index] = df_CMAQ.CMAQ_EXT_SULF_factor*data_merge.SULF + data_merge.CMAQ_EXT_OC_factor*data_merge.OC + data_merge.CMAQ_EXT_BC_factor*data_merge.BC\n",
    "            df_judge = df_CMAQ.loc[(df_CMAQ['day'] == jday) &  (df_CMAQ['zone'] == izone) &  (df_CMAQ['Alt']<= 4)]\n",
    "#             if not df_judge['CMAQ_EXT_Aircraft_'+iv+'_interp'].isnull().all():\n",
    "            df_CMAQ.loc[(df_CMAQ['day'] == jday) &  (df_CMAQ['zone'] == izone)&  (df_CMAQ['Alt']>4), 'EXTdry_interp'] = df_CMAQ['AOT_'+iv]/df_CMAQ.BOXH*1000.\n",
    "            df_sub = df_CMAQ.loc[(df_CMAQ['day'] == jday) &  (df_CMAQ['zone'] == izone)]\n",
    "            df_CMAQ.loc[(df_CMAQ['day'] == jday) &  (df_CMAQ['zone'] == izone), 'EXTdry_interp'] = df_sub['EXTdry_interp'].interpolate(limit_direction = 'both', method = 'linear')\n",
    "# df_CMAQ['CMAQ_EXT_Aircraft_BC_interp'] = df_CMAQ['CMAQ_EXT_Aircraft_BC_interp'].fillna(0)\n",
    "# df_CMAQ['CMAQ_EXT_Aircraft_OC_interp'] = df_CMAQ['CMAQ_EXT_Aircraft_OC_interp'].fillna(0)\n",
    "# df_CMAQ['CMAQ_EXT_Aircraft_SULF_interp'] = df_CMAQ['CMAQ_EXT_Aircraft_SULF_interp'].fillna(0)"
   ]
  },
  {
   "cell_type": "markdown",
   "metadata": {},
   "source": [
    "# Change the mass of CMAQ to aircraft mass (keep other layers as the CMAQ value)"
   ]
  },
  {
   "cell_type": "code",
   "execution_count": 9,
   "metadata": {},
   "outputs": [],
   "source": [
    "df_CMAQ['CMAQ_EXT_Aircraft_SULF_ori'] = df_CMAQ.AOT_SULF/df_CMAQ.BOXH*1000.\n",
    "df_CMAQ['CMAQ_EXT_Aircraft_OC_ori'] = df_CMAQ.AOT_OC/df_CMAQ.BOXH*1000.\n",
    "df_CMAQ['CMAQ_EXT_Aircraft_BC_ori'] = df_CMAQ.AOT_BC/df_CMAQ.BOXH*1000."
   ]
  },
  {
   "cell_type": "code",
   "execution_count": 10,
   "metadata": {},
   "outputs": [],
   "source": [
    "uni_JDAY = data_merge['day'].unique()\n",
    "zone_arr = np.arange(1,7)\n",
    "lat_arr = [39.2, 39.5, 39.6, 39.7, 39.4, 39.3]\n",
    "lon_arr = [-76.6, -76.6, -76.2, -75.8, -76.3, -76.5]\n",
    "\n",
    "df_CMAQ['CMAQ_EXT_Aircraft_SULF'] = df_CMAQ.AOT_SULF/df_CMAQ.BOXH*1000.\n",
    "df_CMAQ['CMAQ_EXT_Aircraft_OC'] = df_CMAQ.AOT_OC/df_CMAQ.BOXH*1000.\n",
    "df_CMAQ['CMAQ_EXT_Aircraft_BC'] = df_CMAQ.AOT_BC/df_CMAQ.BOXH*1000.\n",
    "for jday in uni_JDAY:\n",
    "    for izone,ilat,ilon in zip(zone_arr,lat_arr,lon_arr):\n",
    "        data_jday = data_merge[(data_merge['day'] == jday) & (data_merge['zone'] == izone)]\n",
    "        data_composite = data_jday.groupby(['ind_ALT']).mean()  \n",
    "    #     data_composite = data_composite.reset_index()\n",
    "    #     alt_uni = data_composite.ind_ALT.unique()\n",
    "        for index, row in data_composite.iterrows():\n",
    "            df_CMAQ.loc[(df_CMAQ['day'] == jday) &  (df_CMAQ['zone'] == izone) &  (df_CMAQ['ind_ALT'] == index), 'CMAQ_EXT_Aircraft_SULF'] = df_CMAQ.AOT_SULF/df_CMAQ.CONC_SULF*row.SULF/df_CMAQ.BOXH*1000.\n",
    "            df_CMAQ.loc[(df_CMAQ['day'] == jday) &  (df_CMAQ['zone'] == izone) &  (df_CMAQ['ind_ALT'] == index), 'CMAQ_EXT_Aircraft_OC'] = df_CMAQ.AOT_OC/df_CMAQ.CONC_OC*row.OC/df_CMAQ.BOXH*1000.\n",
    "            df_CMAQ.loc[(df_CMAQ['day'] == jday) &  (df_CMAQ['zone'] == izone) &  (df_CMAQ['ind_ALT'] == index), 'CMAQ_EXT_Aircraft_BC'] = df_CMAQ.AOT_BC/df_CMAQ.CONC_BC*row.BC/df_CMAQ.BOXH*1000.\n",
    "#         df_CMAQ['CMAQ_EXT_Aircraft_Mass'][index] = df_CMAQ.CMAQ_EXT_SULF_factor*data_merge.SULF + data_merge.CMAQ_EXT_OC_factor*data_merge.OC + data_merge.CMAQ_EXT_BC_factor*data_merge.BC\n"
   ]
  },
  {
   "cell_type": "code",
   "execution_count": 11,
   "metadata": {},
   "outputs": [],
   "source": [
    "df_CMAQ['CMAQ_EXT_Aircraft_Mass'] = df_CMAQ['CMAQ_EXT_Aircraft_SULF'] + df_CMAQ['CMAQ_EXT_Aircraft_OC'] +df_CMAQ['CMAQ_EXT_Aircraft_BC']"
   ]
  },
  {
   "cell_type": "code",
   "execution_count": 12,
   "metadata": {},
   "outputs": [],
   "source": [
    "df_CMAQ['CMAQ_CONC_Aircraft_SULF'] = df_CMAQ.CONC_SULF\n",
    "df_CMAQ['CMAQ_CONC_Aircraft_OC'] = df_CMAQ.CONC_OC\n",
    "df_CMAQ['CMAQ_CONC_Aircraft_BC'] = df_CMAQ.CONC_BC\n",
    "\n",
    "for jday in uni_JDAY:\n",
    "    for izone,ilat,ilon in zip(zone_arr,lat_arr,lon_arr):\n",
    "        data_jday = data_merge[(data_merge['day'] == jday) & (data_merge['zone'] == izone)]\n",
    "        data_composite = data_jday.groupby(['ind_ALT']).mean()  \n",
    "    #     data_composite = data_composite.reset_index()\n",
    "    #     alt_uni = data_composite.ind_ALT.unique()\n",
    "        for index, row in data_composite.iterrows():\n",
    "            df_CMAQ.loc[(df_CMAQ['day'] == jday) &  (df_CMAQ['zone'] == izone)&  (df_CMAQ['ind_ALT'] == index), 'CMAQ_CONC_Aircraft_SULF'] = row.SULF\n",
    "            df_CMAQ.loc[(df_CMAQ['day'] == jday) &  (df_CMAQ['zone'] == izone)&  (df_CMAQ['ind_ALT'] == index), 'CMAQ_CONC_Aircraft_OC'] = row.OC\n",
    "            df_CMAQ.loc[(df_CMAQ['day'] == jday) &  (df_CMAQ['zone'] == izone)&  (df_CMAQ['ind_ALT'] == index), 'CMAQ_CONC_Aircraft_BC'] = row.BC"
   ]
  },
  {
   "cell_type": "markdown",
   "metadata": {},
   "source": [
    "# Change the mass of CMAQ to aircraft mass (interpolate the missing values)"
   ]
  },
  {
   "cell_type": "code",
   "execution_count": 13,
   "metadata": {},
   "outputs": [],
   "source": [
    "var_arr = ['SULF','OC','BC']\n",
    "for jday in uni_JDAY:\n",
    "    for izone,ilat,ilon in zip(zone_arr,lat_arr,lon_arr):\n",
    "        data_jday = data_merge[(data_merge['day'] == jday) & (data_merge['zone'] == izone)]\n",
    "        data_composite = data_jday.groupby(['ind_ALT']).mean()  \n",
    "        for iv in var_arr:\n",
    "#     data_composite = data_composite.reset_index()\n",
    "#     alt_uni = data_composite.ind_ALT.unique()\n",
    "            for index, row in data_composite.iterrows():\n",
    "                df_CMAQ.loc[(df_CMAQ['day'] == jday) &  (df_CMAQ['zone'] == izone)&  (df_CMAQ['ind_ALT'] == index), 'CMAQ_EXT_Aircraft_'+iv+'_interp'] = df_CMAQ['AOT_'+iv]/df_CMAQ['CONC_'+iv]*row[iv]/df_CMAQ.BOXH*1000.\n",
    "                #         df_CMAQ['CMAQ_EXT_Aircraft_Mass'][index] = df_CMAQ.CMAQ_EXT_SULF_factor*data_merge.SULF + data_merge.CMAQ_EXT_OC_factor*data_merge.OC + data_merge.CMAQ_EXT_BC_factor*data_merge.BC\n",
    "            df_judge = df_CMAQ.loc[(df_CMAQ['day'] == jday) &  (df_CMAQ['zone'] == izone) &  (df_CMAQ['Alt']<= 4)]\n",
    "            if not df_judge['CMAQ_EXT_Aircraft_'+iv+'_interp'].isnull().all():\n",
    "                df_CMAQ.loc[(df_CMAQ['day'] == jday) &  (df_CMAQ['zone'] == izone)&  (df_CMAQ['Alt']>4), 'CMAQ_EXT_Aircraft_'+iv+'_interp'] = df_CMAQ['AOT_'+iv]/df_CMAQ.BOXH*1000.\n",
    "                df_sub = df_CMAQ.loc[(df_CMAQ['day'] == jday) &  (df_CMAQ['zone'] == izone)]\n",
    "                df_CMAQ.loc[(df_CMAQ['day'] == jday) &  (df_CMAQ['zone'] == izone), 'CMAQ_EXT_Aircraft_'+iv+'_interp'] = df_sub['CMAQ_EXT_Aircraft_'+iv+'_interp'].interpolate(limit_direction = 'both', method = 'linear')\n",
    "# df_CMAQ['CMAQ_EXT_Aircraft_BC_interp'] = df_CMAQ['CMAQ_EXT_Aircraft_BC_interp'].fillna(0)\n",
    "# df_CMAQ['CMAQ_EXT_Aircraft_OC_interp'] = df_CMAQ['CMAQ_EXT_Aircraft_OC_interp'].fillna(0)\n",
    "# df_CMAQ['CMAQ_EXT_Aircraft_SULF_interp'] = df_CMAQ['CMAQ_EXT_Aircraft_SULF_interp'].fillna(0)"
   ]
  },
  {
   "cell_type": "code",
   "execution_count": 14,
   "metadata": {
    "scrolled": false
   },
   "outputs": [],
   "source": [
    "for jday in uni_JDAY:\n",
    "    for izone,ilat,ilon in zip(zone_arr,lat_arr,lon_arr):\n",
    "        data_jday = data_merge[(data_merge['day'] == jday) & (data_merge['zone'] == izone)]\n",
    "        data_composite = data_jday.groupby(['ind_ALT']).mean()  \n",
    "    #     data_composite = data_composite.reset_index()\n",
    "    #     alt_uni = data_composite.ind_ALT.unique()\n",
    "        for iv in var_arr:\n",
    "\n",
    "            for index, row in data_composite.iterrows():\n",
    "                df_CMAQ.loc[(df_CMAQ['day'] == jday) &  (df_CMAQ['zone'] == izone)&  (df_CMAQ['ind_ALT'] == index), 'CMAQ_CONC_Aircraft_'+iv+'_interp'] =row[iv]\n",
    "        #         df_CMAQ['CMAQ_EXT_Aircraft_Mass'][index] = df_CMAQ.CMAQ_EXT_'+iv+'_factor*data_merge.'+iv+' + data_merge.CMAQ_EXT_OC_factor*data_merge.OC + data_merge.CMAQ_EXT_BC_factor*data_merge.BC\n",
    "            df_judge = df_CMAQ.loc[(df_CMAQ['day'] == jday) &  (df_CMAQ['zone'] == izone) &  (df_CMAQ['Alt']<= 4)]\n",
    "            if not df_judge['CMAQ_CONC_Aircraft_'+iv+'_interp'].isnull().all():\n",
    "                df_CMAQ.loc[(df_CMAQ['day'] == jday) &  (df_CMAQ['zone'] == izone)&  (df_CMAQ['Alt']>=4), 'CMAQ_CONC_Aircraft_'+iv+'_interp'] = df_CMAQ['AOT_'+iv]/df_CMAQ.BOXH*1000.\n",
    "                df_sub = df_CMAQ.loc[(df_CMAQ['day'] == jday) &  (df_CMAQ['zone'] == izone)]\n",
    "                df_CMAQ.loc[((df_CMAQ['day'] == jday) &  (df_CMAQ['zone'] == izone)), 'CMAQ_CONC_Aircraft_'+iv+'_interp'] = df_sub['CMAQ_CONC_Aircraft_'+iv+'_interp'].interpolate(limit_direction = 'both', method = 'linear')\n",
    "# df_CMAQ['CMAQ_CONC_Aircraft_'+iv+'_interp'] = df_CMAQ['CMAQ_CONC_Aircraft_'+iv+'_interp'].fillna(0)\n",
    "# df_CMAQ['CMAQ_CONC_Aircraft_OC_interp'] = df_CMAQ['CMAQ_CONC_Aircraft_OC_interp'].fillna(0)\n",
    "# df_CMAQ['CMAQ_CONC_Aircraft_BC_interp'] = df_CMAQ['CMAQ_CONC_Aircraft_BC_interp'].fillna(0)    "
   ]
  },
  {
   "cell_type": "code",
   "execution_count": 15,
   "metadata": {},
   "outputs": [],
   "source": [
    "df_CMAQ['CMAQ_CONC_SULF_C'] = df_CMAQ['CONC_SULF']*df_CMAQ['BOXH']\n",
    "df_CMAQ['CMAQ_CONC_OC_C'] = df_CMAQ['CONC_OC']*df_CMAQ['BOXH']\n",
    "df_CMAQ['CMAQ_CONC_BC_C'] = df_CMAQ['CONC_BC']*df_CMAQ['BOXH']\n",
    "df_CMAQ['CMAQ_CONC_TOT_C'] = df_CMAQ['CMAQ_CONC_SULF_C'] + df_CMAQ['CMAQ_CONC_OC_C'] + df_CMAQ['CMAQ_CONC_BC_C']\n",
    "df_CMAQ['CMAQ_CONC_Aircraft_SULF_interp_C'] = df_CMAQ['CMAQ_CONC_Aircraft_SULF_interp']*df_CMAQ['BOXH']\n",
    "df_CMAQ['CMAQ_CONC_Aircraft_OC_interp_C'] = df_CMAQ['CMAQ_CONC_Aircraft_OC_interp']*df_CMAQ['BOXH']\n",
    "df_CMAQ['CMAQ_CONC_Aircraft_BC_interp_C'] = df_CMAQ['CMAQ_CONC_Aircraft_BC_interp']*df_CMAQ['BOXH']\n",
    "df_CMAQ['CMAQ_CONC_Aircraft_TOT_interp_C'] = df_CMAQ['CMAQ_CONC_Aircraft_SULF_interp_C']+df_CMAQ['CMAQ_CONC_Aircraft_OC_interp_C']+df_CMAQ['CMAQ_CONC_Aircraft_BC_interp_C']"
   ]
  },
  {
   "cell_type": "code",
   "execution_count": 16,
   "metadata": {},
   "outputs": [],
   "source": [
    "df_CMAQ['CMAQ_CONC_Aircraft_SULF_C'] = df_CMAQ['CMAQ_CONC_Aircraft_SULF']*df_CMAQ['BOXH']\n",
    "df_CMAQ['CMAQ_CONC_Aircraft_OC_C'] = df_CMAQ['CMAQ_CONC_Aircraft_OC']*df_CMAQ['BOXH']\n",
    "df_CMAQ['CMAQ_CONC_Aircraft_BC_C'] = df_CMAQ['CMAQ_CONC_Aircraft_BC']*df_CMAQ['BOXH']\n",
    "df_CMAQ['CMAQ_CONC_Aircraft_TOT_C'] = df_CMAQ['CMAQ_CONC_Aircraft_SULF_C']+df_CMAQ['CMAQ_CONC_Aircraft_OC_C']+df_CMAQ['CMAQ_CONC_Aircraft_BC_C']"
   ]
  },
  {
   "cell_type": "code",
   "execution_count": 17,
   "metadata": {},
   "outputs": [],
   "source": [
    "asub = df_CMAQ[((df_CMAQ['day'] == jday) &  (df_CMAQ['zone'] == izone))]"
   ]
  },
  {
   "cell_type": "markdown",
   "metadata": {},
   "source": [
    "# Change the vertical distribution of mass, but keep the total column mass constant"
   ]
  },
  {
   "cell_type": "code",
   "execution_count": 18,
   "metadata": {
    "scrolled": true
   },
   "outputs": [],
   "source": [
    "var_str = ['SULF','OC','BC']\n",
    "for jday in uni_JDAY:\n",
    "    for izone,ilat,ilon in zip(zone_arr,lat_arr,lon_arr):\n",
    "        for iv in var_str:\n",
    "            total_mass_aircraft = df_CMAQ.loc[((df_CMAQ['day'] == jday) &  (df_CMAQ['zone'] == izone)), 'CMAQ_CONC_Aircraft_'+iv+'_interp_C'].sum()  \n",
    "            total_mass_CMAQ = df_CMAQ.loc[((df_CMAQ['day'] == jday) &  (df_CMAQ['zone'] == izone)), 'CMAQ_CONC_'+iv+'_C'].sum() \n",
    "            ratio = total_mass_CMAQ/total_mass_aircraft\n",
    "            if np.isfinite(ratio):\n",
    "                df_CMAQ.loc[((df_CMAQ['day'] == jday) &  (df_CMAQ['zone'] == izone)), 'CMAQ_EXT_Aircraft_'+iv+'_dist'] \\\n",
    "                =  df_CMAQ.loc[((df_CMAQ['day'] == jday) &  (df_CMAQ['zone'] == izone)), 'CMAQ_EXT_Aircraft_'+iv+'_interp']*ratio"
   ]
  },
  {
   "cell_type": "markdown",
   "metadata": {},
   "source": [
    "# Change the total column mass of each species, but keep the distribution as CMAQ"
   ]
  },
  {
   "cell_type": "code",
   "execution_count": 19,
   "metadata": {},
   "outputs": [],
   "source": [
    "var_str = ['SULF','OC','BC']\n",
    "for jday in uni_JDAY:\n",
    "    for izone,ilat,ilon in zip(zone_arr,lat_arr,lon_arr):\n",
    "        for iv in var_str:\n",
    "            total_mass_aircraft = df_CMAQ.loc[((df_CMAQ['day'] == jday) &  (df_CMAQ['zone'] == izone)), 'CMAQ_CONC_Aircraft_'+iv+'_interp_C'].sum()  \n",
    "            total_mass_CMAQ = df_CMAQ.loc[((df_CMAQ['day'] == jday) &  (df_CMAQ['zone'] == izone)), 'CMAQ_CONC_'+iv+'_C'].sum() \n",
    "            ratio = total_mass_aircraft/total_mass_CMAQ\n",
    "            if np.isfinite(ratio):\n",
    "                df_sub = df_CMAQ[((df_CMAQ['day'] == jday) &  (df_CMAQ['zone'] == izone))]\n",
    "                df_CMAQ.loc[((df_CMAQ['day'] == jday) &  (df_CMAQ['zone'] == izone)), 'CMAQ_EXT_Aircraft_'+iv+'_column_mass'] =df_sub['AOT_'+iv]/df_sub['CONC_'+iv]*ratio"
   ]
  },
  {
   "cell_type": "code",
   "execution_count": 20,
   "metadata": {},
   "outputs": [],
   "source": [
    "var_str = ['SULF','OC','BC']\n",
    "for jday in uni_JDAY:\n",
    "    for izone,ilat,ilon in zip(zone_arr,lat_arr,lon_arr):\n",
    "        for iv in var_str:\n",
    "            total_mass_aircraft = df_CMAQ.loc[((df_CMAQ['day'] == jday) & (df_CMAQ['zone'] == izone)), 'CMAQ_CONC_Aircraft_'+iv+'_C'].sum()  \n",
    "            total_mass_CMAQ = df_CMAQ.loc[((df_CMAQ['day'] == jday) & (df_CMAQ['zone'] == izone)), 'CMAQ_CONC_'+iv+'_C'].sum() \n",
    "            ratio = total_mass_aircraft/total_mass_CMAQ\n",
    "            if np.isfinite(ratio):\n",
    "                df_sub = df_CMAQ[((df_CMAQ['day'] == jday) & (df_CMAQ['zone'] == izone))]\n",
    "                df_CMAQ.loc[((df_CMAQ['day'] == jday) & (df_CMAQ['zone'] == izone)), 'CMAQ_EXT_Aircraft_'+iv+'_column_nointerp'] =df_sub['AOT_'+iv]/df_sub['CONC_'+iv]*ratio"
   ]
  },
  {
   "cell_type": "markdown",
   "metadata": {},
   "source": [
    "# Change the total column mass of all species together, but keep the distribution as CMAQ"
   ]
  },
  {
   "cell_type": "code",
   "execution_count": 21,
   "metadata": {
    "scrolled": true
   },
   "outputs": [],
   "source": [
    "for jday in uni_JDAY:\n",
    "    for izone,ilat,ilon in zip(zone_arr,lat_arr,lon_arr):\n",
    "        iv = 'TOT'\n",
    "        total_mass_aircraft = df_CMAQ.loc[((df_CMAQ['day'] == jday) & (df_CMAQ['zone'] == izone)), 'CMAQ_CONC_Aircraft_'+iv+'_interp_C'].sum()  \n",
    "        total_mass_CMAQ = df_CMAQ.loc[((df_CMAQ['day'] == jday) & (df_CMAQ['zone'] == izone)), 'CMAQ_CONC_'+iv+'_C'].sum() \n",
    "        ratio = total_mass_aircraft/total_mass_CMAQ\n",
    "        if np.isfinite(ratio):\n",
    "            df_sub = df_CMAQ[ ((df_CMAQ['day'] == jday) & (df_CMAQ['zone'] == izone))]\n",
    "            df_CMAQ.loc[ ((df_CMAQ['day'] == jday) & (df_CMAQ['zone'] == izone)), 'CMAQ_EXT_Aircraft_TOT_column_mass_TOT'] =df_sub['EXT']*ratio"
   ]
  },
  {
   "cell_type": "code",
   "execution_count": 22,
   "metadata": {
    "scrolled": true
   },
   "outputs": [],
   "source": [
    "for jday in uni_JDAY:\n",
    "    for izone,ilat,ilon in zip(zone_arr,lat_arr,lon_arr):\n",
    "        iv = 'TOT'\n",
    "        total_mass_aircraft = df_CMAQ.loc[((df_CMAQ['day'] == jday) & (df_CMAQ['zone'] == izone)), 'CMAQ_CONC_Aircraft_'+iv+'_C'].sum()  \n",
    "        total_mass_CMAQ = df_CMAQ.loc[((df_CMAQ['day'] == jday) & (df_CMAQ['zone'] == izone)), 'CMAQ_CONC_'+iv+'_C'].sum() \n",
    "        ratio = total_mass_aircraft/total_mass_CMAQ\n",
    "        df_sub = df_CMAQ[((df_CMAQ['day'] == jday) & df_CMAQ['zone'] == izone)]\n",
    "        df_CMAQ.loc[((df_CMAQ['day'] == jday) & df_CMAQ['zone'] == izone), 'CMAQ_EXT_Aircraft_TOT_column_mass_TOT_nointerp'] =df_sub['EXT']*ratio"
   ]
  },
  {
   "cell_type": "markdown",
   "metadata": {},
   "source": [
    "# Change the RH to aircraft observed RH "
   ]
  },
  {
   "cell_type": "code",
   "execution_count": 23,
   "metadata": {},
   "outputs": [],
   "source": [
    "rh_arr = [20, 40, 50, 60, 70, 80]\n",
    "RH_array = ['RH20','RH40','RH50','RH60','RH70','RH80']\n",
    "var_arr = ['SULF','OC','BC']\n",
    "for jday in uni_JDAY:\n",
    "    for izone,ilat,ilon in zip(zone_arr,lat_arr,lon_arr):\n",
    "        uni_hour = data_jday['t_C'].unique()- (jday-1)*24\n",
    "        data_jday = data_merge[(data_merge['day'] == jday) & (data_merge['zone'] == izone)]\n",
    "        data_composite = data_jday.groupby(['ind_ALT']).mean()  \n",
    "    #     data_composite = data_composite.reset_index()\n",
    "    #     alt_uni = data_composite.ind_ALT.unique()\n",
    "        for iv in var_arr:\n",
    "            for index, row in data_composite.iterrows():\n",
    "                ext_arr = []\n",
    "                for ir in RH_array:\n",
    "                    ext_arr.append(row['CMAQ_EXT_'+iv+'_point'+ir])\n",
    "                df_CMAQ.loc[((df_CMAQ['day'] == jday)& (df_CMAQ['zone'] == izone) &  (df_CMAQ['ind_ALT'] == index)), 'CMAQ_EXT_Aircraft_'+iv+'_RH'] = np.interp(row.RHamb, rh_arr, ext_arr)\n",
    "        #         df_CMAQ['CMAQ_EXT_Aircraft_Mass'][index] = df_CMAQ.CMAQ_EXT_SULF_factor*data_merge.SULF + data_merge.CMAQ_EXT_OC_factor*data_merge.OC + data_merge.CMAQ_EXT_BC_factor*data_merge.BC\n",
    "            df_judge = df_CMAQ.loc[(df_CMAQ['day'] == jday) &  (df_CMAQ['zone'] == izone) &  (df_CMAQ['Alt']<= 4)]\n",
    "            if not df_judge['CMAQ_CONC_Aircraft_'+iv+'_interp'].isnull().all():\n",
    "                df_CMAQ.loc[((df_CMAQ['day'] == jday) & (df_CMAQ['zone'] == izone) &  (df_CMAQ['Alt']>4)), 'CMAQ_EXT_Aircraft_'+iv+'_RH'] = df_CMAQ['EXT']\n",
    "                df_sub = df_CMAQ.loc[(df_CMAQ['day'] == jday) & (df_CMAQ['zone'] == izone)]\n",
    "                df_CMAQ.loc[((df_CMAQ['day'] == jday) & (df_CMAQ['zone'] == izone)), 'CMAQ_EXT_Aircraft_'+iv+'_RH'] = df_sub['CMAQ_EXT_Aircraft_'+iv+'_RH'].interpolate(limit_direction = 'both', method = 'linear')"
   ]
  },
  {
   "cell_type": "code",
   "execution_count": 24,
   "metadata": {},
   "outputs": [],
   "source": [
    "rh_arr = [20, 40, 50, 60, 70, 80]\n",
    "RH_array = ['RH20','RH40','RH50','RH60','RH70','RH80']\n",
    "var_arr = ['SULF','OC','BC']\n",
    "for jday in uni_JDAY:\n",
    "    for izone,ilat,ilon in zip(zone_arr,lat_arr,lon_arr):\n",
    "        uni_hour = data_jday['t_C'].unique()- (jday-1)*24\n",
    "        data_jday = data_merge[(data_merge['day'] == jday) & (data_merge['zone'] == izone)]\n",
    "        data_composite = data_jday.groupby(['ind_ALT']).mean()  \n",
    "    #     data_composite = data_composite.reset_index()\n",
    "    #     alt_uni = data_composite.ind_ALT.unique()\n",
    "        for iv in var_arr:\n",
    "            for index, row in data_composite.iterrows():\n",
    "                ext_arr = []\n",
    "                for ir in RH_array:\n",
    "                    ext_arr.append(row['CMAQ_EXT_'+iv+'_point'+ir])\n",
    "                df_CMAQ.loc[((df_CMAQ['day'] == jday)& (df_CMAQ['zone'] == izone) &  (df_CMAQ['ind_ALT'] == index)), 'CMAQ_EXT_Aircraft_'+iv+'_RH_noint'] = np.interp(row.RHamb, rh_arr, ext_arr)\n",
    "        #         df_CMAQ['CMAQ_EXT_Aircraft_Mass'][index] = df_CMAQ.CMAQ_EXT_SULF_factor*data_merge.SULF + data_merge.CMAQ_EXT_OC_factor*data_merge.OC + data_merge.CMAQ_EXT_BC_factor*data_merge.BC\n",
    "            df_judge = df_CMAQ.loc[(df_CMAQ['day'] == jday) &  (df_CMAQ['zone'] == izone)]\n",
    "            if not df_judge['CMAQ_CONC_Aircraft_'+iv+'_interp'].isnull().all():\n",
    "                df_sub = df_CMAQ.loc[(df_CMAQ['day'] == jday) & (df_CMAQ['zone'] == izone)]\n",
    "                df_CMAQ.loc[((df_CMAQ['day'] == jday) & (df_CMAQ['zone'] == izone)), 'CMAQ_EXT_Aircraft_'+iv+'_RH_noint'] = df_sub['CMAQ_EXT_Aircraft_'+iv+'_RH_noint'].interpolate(limit_direction = 'both', method = 'linear')"
   ]
  },
  {
   "cell_type": "markdown",
   "metadata": {},
   "source": [
    "# Change the RH to aircraft observed RHdry "
   ]
  },
  {
   "cell_type": "code",
   "execution_count": 25,
   "metadata": {},
   "outputs": [],
   "source": [
    "rh_arr = [20, 40, 50, 60, 70, 80]\n",
    "RH_array = ['RH20','RH40','RH50','RH60','RH70','RH80']\n",
    "var_arr = ['SULF','OC','BC']\n",
    "for jday in uni_JDAY:\n",
    "    for izone,ilat,ilon in zip(zone_arr,lat_arr,lon_arr):\n",
    "        uni_hour = data_jday['t_C'].unique()- (jday-1)*24\n",
    "        data_jday = data_merge[(data_merge['day'] == jday) & (data_merge['zone'] == izone)]\n",
    "        data_composite = data_jday.groupby(['ind_ALT']).mean()  \n",
    "    #     data_composite = data_composite.reset_index()\n",
    "    #     alt_uni = data_composite.ind_ALT.unique()\n",
    "        for iv in var_arr:\n",
    "            for index, row in data_composite.iterrows():\n",
    "                ext_arr = []\n",
    "                for ir in RH_array:\n",
    "                    ext_arr.append(row['CMAQ_EXT_'+iv+'_point'+ir])\n",
    "                df_CMAQ.loc[((df_CMAQ['day'] == jday)& (df_CMAQ['zone'] == izone) &  (df_CMAQ['ind_ALT'] == index)), 'CMAQ_EXT_Aircraft_'+iv+'_RHdry'] = np.interp(row.RHdry, rh_arr, ext_arr)\n",
    "        #         df_CMAQ['CMAQ_EXT_Aircraft_Mass'][index] = df_CMAQ.CMAQ_EXT_SULF_factor*data_merge.SULF + data_merge.CMAQ_EXT_OC_factor*data_merge.OC + data_merge.CMAQ_EXT_BC_factor*data_merge.BC\n",
    "            df_judge = df_CMAQ.loc[(df_CMAQ['day'] == jday) &  (df_CMAQ['zone'] == izone) &  (df_CMAQ['Alt']<= 4)]\n",
    "            if not df_judge['CMAQ_CONC_Aircraft_'+iv+'_interp'].isnull().all():\n",
    "                df_CMAQ.loc[((df_CMAQ['day'] == jday) & (df_CMAQ['zone'] == izone) &  (df_CMAQ['Alt']>4)), 'CMAQ_EXT_Aircraft_'+iv+'_RHdry'] = df_CMAQ['EXT']\n",
    "                df_sub = df_CMAQ.loc[(df_CMAQ['day'] == jday) & (df_CMAQ['zone'] == izone)]\n",
    "                df_CMAQ.loc[((df_CMAQ['day'] == jday) & (df_CMAQ['zone'] == izone)), 'CMAQ_EXT_Aircraft_'+iv+'_RHdry'] = df_sub['CMAQ_EXT_Aircraft_'+iv+'_RHdry'].interpolate(limit_direction = 'both', method = 'linear')"
   ]
  },
  {
   "cell_type": "code",
   "execution_count": 26,
   "metadata": {},
   "outputs": [],
   "source": [
    "rh_arr = [20, 40, 50, 60, 70, 80]\n",
    "RH_array = ['RH20','RH40','RH50','RH60','RH70','RH80']\n",
    "var_arr = ['SULF','OC','BC']\n",
    "for jday in uni_JDAY:\n",
    "    for izone,ilat,ilon in zip(zone_arr,lat_arr,lon_arr):\n",
    "        uni_hour = data_jday['t_C'].unique()- (jday-1)*24\n",
    "        data_jday = data_merge[(data_merge['day'] == jday) & (data_merge['zone'] == izone)]\n",
    "        data_composite = data_jday.groupby(['ind_ALT']).mean()  \n",
    "    #     data_composite = data_composite.reset_index()\n",
    "    #     alt_uni = data_composite.ind_ALT.unique()\n",
    "        for iv in var_arr:\n",
    "            for index, row in data_composite.iterrows():\n",
    "                ext_arr = []\n",
    "                for ir in RH_array:\n",
    "                    ext_arr.append(row['CMAQ_EXT_'+iv+'_point'+ir])\n",
    "                df_CMAQ.loc[((df_CMAQ['day'] == jday)& (df_CMAQ['zone'] == izone) &  (df_CMAQ['ind_ALT'] == index)), 'CMAQ_EXT_Aircraft_'+iv+'_RHdry_noint'] = np.interp(row.RHdry, rh_arr, ext_arr)\n",
    "        #         df_CMAQ['CMAQ_EXT_Aircraft_Mass'][index] = df_CMAQ.CMAQ_EXT_SULF_factor*data_merge.SULF + data_merge.CMAQ_EXT_OC_factor*data_merge.OC + data_merge.CMAQ_EXT_BC_factor*data_merge.BC\n",
    "            df_judge = df_CMAQ.loc[(df_CMAQ['day'] == jday) &  (df_CMAQ['zone'] == izone)]\n",
    "            if not df_judge['CMAQ_CONC_Aircraft_'+iv+'_interp'].isnull().all():\n",
    "                df_sub = df_CMAQ.loc[(df_CMAQ['day'] == jday) & (df_CMAQ['zone'] == izone)]\n",
    "                df_CMAQ.loc[((df_CMAQ['day'] == jday) & (df_CMAQ['zone'] == izone)), 'CMAQ_EXT_Aircraft_'+iv+'_RHdry_noint'] = df_sub['CMAQ_EXT_Aircraft_'+iv+'_RHdry_noint'].interpolate(limit_direction = 'both', method = 'linear')"
   ]
  },
  {
   "cell_type": "markdown",
   "metadata": {},
   "source": [
    "# Change the RHdry and Mass to aircraft observed RHdry/Mass"
   ]
  },
  {
   "cell_type": "code",
   "execution_count": 27,
   "metadata": {},
   "outputs": [],
   "source": [
    "rh_arr = [20, 40, 50, 60, 70, 80]\n",
    "RH_array = ['RH20','RH40','RH50','RH60','RH70','RH80']\n",
    "var_arr = ['SULF','OC','BC']\n",
    "for jday in uni_JDAY:\n",
    "    for izone,ilat,ilon in zip(zone_arr,lat_arr,lon_arr):\n",
    "        uni_hour = data_jday['t_C'].unique()- (jday-1)*24\n",
    "        data_jday = data_merge[(data_merge['day'] == jday) & (data_merge['zone'] == izone)]\n",
    "        data_composite = data_jday.groupby(['ind_ALT']).mean()  \n",
    "    #     data_composite = data_composite.reset_index()\n",
    "    #     alt_uni = data_composite.ind_ALT.unique()\n",
    "        for iv in var_arr:\n",
    "            for index, row in data_composite.iterrows():\n",
    "                ext_arr = []\n",
    "                for ir in RH_array:\n",
    "                    ext_arr.append(row['CMAQ_EXT_'+iv+'_point'+ir])\n",
    "                conc_a = df_CMAQ.loc[((df_CMAQ['day'] == jday)& (df_CMAQ['zone'] == izone) &  (df_CMAQ['ind_ALT'] == index)), 'CONC_'+iv]\n",
    "                con_obs = df_CMAQ.loc[((df_CMAQ['day'] == jday)& (df_CMAQ['zone'] == izone) &  (df_CMAQ['ind_ALT'] == index)), 'CMAQ_CONC_Aircraft_'+iv+'_interp']\n",
    "                df_CMAQ.loc[((df_CMAQ['day'] == jday)& (df_CMAQ['zone'] == izone) &  (df_CMAQ['ind_ALT'] == index)), 'CMAQ_EXT_Aircraft_'+iv+'_RHdry_Mass'] = np.interp(row.RHdry, rh_arr, ext_arr)/conc_a*con_obs\n",
    "        #         df_CMAQ['CMAQ_EXT_Aircraft_Mass'][index] = df_CMAQ.CMAQ_EXT_SULF_factor*data_merge.SULF + data_merge.CMAQ_EXT_OC_factor*data_merge.OC + data_merge.CMAQ_EXT_BC_factor*data_merge.BC\n",
    "            df_judge = df_CMAQ.loc[(df_CMAQ['day'] == jday) &  (df_CMAQ['zone'] == izone)]\n",
    "            if not df_judge['CMAQ_CONC_Aircraft_'+iv+'_interp'].isnull().all():\n",
    "                df_sub = df_CMAQ.loc[(df_CMAQ['day'] == jday) & (df_CMAQ['zone'] == izone)]\n",
    "                df_CMAQ.loc[((df_CMAQ['day'] == jday) & (df_CMAQ['zone'] == izone)), 'CMAQ_EXT_Aircraft_'+iv+'_RHdry_Mass'] = df_sub['CMAQ_EXT_Aircraft_'+iv+'_RHdry_Mass'].interpolate(limit_direction = 'both', method = 'linear')"
   ]
  },
  {
   "cell_type": "markdown",
   "metadata": {},
   "source": [
    "# Change the RHamb and Mass to aircraft observed RHdamb/Mass"
   ]
  },
  {
   "cell_type": "code",
   "execution_count": 28,
   "metadata": {},
   "outputs": [],
   "source": [
    "rh_arr = [20, 40, 50, 60, 70, 80]\n",
    "RH_array = ['RH20','RH40','RH50','RH60','RH70','RH80']\n",
    "var_arr = ['SULF','OC','BC']\n",
    "for jday in uni_JDAY:\n",
    "    for izone,ilat,ilon in zip(zone_arr,lat_arr,lon_arr):\n",
    "        uni_hour = data_jday['t_C'].unique()- (jday-1)*24\n",
    "        data_jday = data_merge[(data_merge['day'] == jday) & (data_merge['zone'] == izone)]\n",
    "        data_composite = data_jday.groupby(['ind_ALT']).mean()  \n",
    "    #     data_composite = data_composite.reset_index()\n",
    "    #     alt_uni = data_composite.ind_ALT.unique()\n",
    "        for iv in var_arr:\n",
    "            for index, row in data_composite.iterrows():\n",
    "                ext_arr = []\n",
    "                for ir in RH_array:\n",
    "                    ext_arr.append(row['CMAQ_EXT_'+iv+'_point'+ir])\n",
    "                conc_a = df_CMAQ.loc[((df_CMAQ['day'] == jday)& (df_CMAQ['zone'] == izone) &  (df_CMAQ['ind_ALT'] == index)), 'CONC_'+iv]\n",
    "                con_obs = df_CMAQ.loc[((df_CMAQ['day'] == jday)& (df_CMAQ['zone'] == izone) &  (df_CMAQ['ind_ALT'] == index)), 'CMAQ_CONC_Aircraft_'+iv+'_interp']\n",
    "                df_CMAQ.loc[((df_CMAQ['day'] == jday)& (df_CMAQ['zone'] == izone) &  (df_CMAQ['ind_ALT'] == index)), 'CMAQ_EXT_Aircraft_'+iv+'_RH_Mass'] = np.interp(row.RHamb, rh_arr, ext_arr)/conc_a*con_obs\n",
    "        #         df_CMAQ['CMAQ_EXT_Aircraft_Mass'][index] = df_CMAQ.CMAQ_EXT_SULF_factor*data_merge.SULF + data_merge.CMAQ_EXT_OC_factor*data_merge.OC + data_merge.CMAQ_EXT_BC_factor*data_merge.BC\n",
    "            df_judge = df_CMAQ.loc[(df_CMAQ['day'] == jday) &  (df_CMAQ['zone'] == izone)]\n",
    "            if not df_judge['CMAQ_CONC_Aircraft_'+iv+'_interp'].isnull().all():\n",
    "                df_sub = df_CMAQ.loc[(df_CMAQ['day'] == jday) & (df_CMAQ['zone'] == izone)]\n",
    "                df_CMAQ.loc[((df_CMAQ['day'] == jday) & (df_CMAQ['zone'] == izone)), 'CMAQ_EXT_Aircraft_'+iv+'_RH_Mass'] = df_sub['CMAQ_EXT_Aircraft_'+iv+'_RH_Mass'].interpolate(limit_direction = 'both', method = 'linear')"
   ]
  },
  {
   "cell_type": "code",
   "execution_count": 29,
   "metadata": {},
   "outputs": [],
   "source": [
    "df_CMAQ['CMAQ_EXT_Aircraft_TOT_interp'] = df_CMAQ['CMAQ_EXT_Aircraft_SULF_interp']+ df_CMAQ['CMAQ_EXT_Aircraft_OC_interp'] +df_CMAQ['CMAQ_EXT_Aircraft_BC_interp']\n",
    "df_CMAQ['CMAQ_EXT_Aircraft_TOT_dist'] = df_CMAQ['CMAQ_EXT_Aircraft_SULF_dist']+ df_CMAQ['CMAQ_EXT_Aircraft_OC_dist'] +df_CMAQ['CMAQ_EXT_Aircraft_BC_dist']\n",
    "df_CMAQ['CMAQ_EXT_Aircraft_TOT_column_mass'] = df_CMAQ['CMAQ_EXT_Aircraft_SULF_column_mass']+ df_CMAQ['CMAQ_EXT_Aircraft_OC_column_mass'] +df_CMAQ['CMAQ_EXT_Aircraft_BC_column_mass']\n",
    "# df_CMAQ['CMAQ_EXT_Aircraft_TOT_column_mass_TOT'] = \n",
    "df_CMAQ['CMAQ_EXT_Aircraft_TOT_RH_noint'] = df_CMAQ['CMAQ_EXT_Aircraft_SULF_RH_noint']+ df_CMAQ['CMAQ_EXT_Aircraft_OC_RH_noint'] +df_CMAQ['CMAQ_EXT_Aircraft_BC_RH_noint']\n",
    "df_CMAQ['CMAQ_EXT_Aircraft_TOT_column_nointerp'] = df_CMAQ['CMAQ_EXT_Aircraft_SULF_column_nointerp']+ df_CMAQ['CMAQ_EXT_Aircraft_OC_column_nointerp'] +df_CMAQ['CMAQ_EXT_Aircraft_BC_column_nointerp']"
   ]
  },
  {
   "cell_type": "code",
   "execution_count": 30,
   "metadata": {},
   "outputs": [],
   "source": [
    "df_CMAQ['CMAQ_EXT_Aircraft_TOT_SULF_interp'] = df_CMAQ['CMAQ_EXT_Aircraft_SULF_interp']+ df_CMAQ['CMAQ_EXT_Aircraft_OC_ori'] +df_CMAQ['CMAQ_EXT_Aircraft_BC_ori']\n",
    "df_CMAQ['CMAQ_EXT_Aircraft_TOT_SULF_dist'] = df_CMAQ['CMAQ_EXT_Aircraft_SULF_dist']+ df_CMAQ['CMAQ_EXT_Aircraft_OC_ori'] +df_CMAQ['CMAQ_EXT_Aircraft_BC_ori']\n",
    "df_CMAQ['CMAQ_EXT_Aircraft_TOT_SULF_column_mass'] = df_CMAQ['CMAQ_EXT_Aircraft_SULF_column_mass']+ df_CMAQ['CMAQ_EXT_Aircraft_OC_ori'] +df_CMAQ['CMAQ_EXT_Aircraft_BC_ori']\n",
    "# df_CMAQ['CMAQ_EXT_Aircraft_TOT_column_mass_TOT'] = \n",
    "df_CMAQ['CMAQ_EXT_Aircraft_TOT_SULF_RH_noint'] = df_CMAQ['CMAQ_EXT_Aircraft_SULF_RH_noint']+ df_CMAQ['CMAQ_EXT_Aircraft_OC_ori'] +df_CMAQ['CMAQ_EXT_Aircraft_BC_ori']\n",
    "df_CMAQ['CMAQ_EXT_Aircraft_TOT_SULF_column_nointerp'] = df_CMAQ['CMAQ_EXT_Aircraft_SULF_column_nointerp']+ df_CMAQ['CMAQ_EXT_Aircraft_OC_ori'] +df_CMAQ['CMAQ_EXT_Aircraft_BC_ori']"
   ]
  },
  {
   "cell_type": "code",
   "execution_count": 31,
   "metadata": {},
   "outputs": [],
   "source": [
    "df_CMAQ['CMAQ_EXT_Aircraft_TOT_OC_interp'] = df_CMAQ['CMAQ_EXT_Aircraft_OC_interp']+ df_CMAQ['CMAQ_EXT_Aircraft_SULF_ori'] +df_CMAQ['CMAQ_EXT_Aircraft_BC_ori']\n",
    "df_CMAQ['CMAQ_EXT_Aircraft_TOT_OC_dist'] = df_CMAQ['CMAQ_EXT_Aircraft_OC_dist']+ df_CMAQ['CMAQ_EXT_Aircraft_SULF_ori'] +df_CMAQ['CMAQ_EXT_Aircraft_BC_ori']\n",
    "df_CMAQ['CMAQ_EXT_Aircraft_TOT_OC_column_mass'] = df_CMAQ['CMAQ_EXT_Aircraft_OC_column_mass']+ df_CMAQ['CMAQ_EXT_Aircraft_SULF_ori'] +df_CMAQ['CMAQ_EXT_Aircraft_BC_ori']\n",
    "# df_CMAQ['CMAQ_EXT_Aircraft_TOT_column_mass_TOT'] = \n",
    "df_CMAQ['CMAQ_EXT_Aircraft_TOT_OC_RH_noint'] = df_CMAQ['CMAQ_EXT_Aircraft_OC_RH_noint']+ df_CMAQ['CMAQ_EXT_Aircraft_SULF_ori'] +df_CMAQ['CMAQ_EXT_Aircraft_BC_ori']\n",
    "df_CMAQ['CMAQ_EXT_Aircraft_TOT_OC_column_nointerp'] = df_CMAQ['CMAQ_EXT_Aircraft_OC_column_nointerp']+ df_CMAQ['CMAQ_EXT_Aircraft_SULF_ori'] +df_CMAQ['CMAQ_EXT_Aircraft_BC_ori']"
   ]
  },
  {
   "cell_type": "code",
   "execution_count": 32,
   "metadata": {},
   "outputs": [],
   "source": [
    "df_CMAQ['CMAQ_CONC_Aircraft_TOT_interp'] = df_CMAQ['CMAQ_CONC_Aircraft_SULF_interp']+df_CMAQ['CMAQ_CONC_Aircraft_OC_interp']+df_CMAQ['CMAQ_CONC_Aircraft_BC_interp']"
   ]
  },
  {
   "cell_type": "code",
   "execution_count": 33,
   "metadata": {},
   "outputs": [],
   "source": [
    "df_CMAQ['CONC_TOT'] = df_CMAQ['CONC_BC'] + df_CMAQ['CONC_SULF'] + df_CMAQ['CONC_OC'] + df_CMAQ['CONC_SSA']+ df_CMAQ['CONC_DUST']"
   ]
  },
  {
   "cell_type": "code",
   "execution_count": 34,
   "metadata": {},
   "outputs": [],
   "source": [
    "df_CMAQ['CMAQ_ext_Aircraft_MEE_amb'] = df_CMAQ['EXTamb_interp'] / df_CMAQ['CMAQ_CONC_Aircraft_TOT_interp'] * df_CMAQ['CONC_TOT']\n",
    "df_CMAQ['CMAQ_ext_Aircraft_MEE_dry'] = df_CMAQ['EXTdry_interp'] / df_CMAQ['CMAQ_CONC_Aircraft_TOT_interp'] * df_CMAQ['CONC_TOT']"
   ]
  },
  {
   "cell_type": "code",
   "execution_count": 35,
   "metadata": {},
   "outputs": [],
   "source": [
    "import read_CMAQ"
   ]
  },
  {
   "cell_type": "raw",
   "metadata": {},
   "source": [
    "df_CMAQ = pd.read_csv(DIR+'Discover_AQ_data_df_cmaq_with_species.csv')"
   ]
  },
  {
   "cell_type": "code",
   "execution_count": 36,
   "metadata": {},
   "outputs": [
    {
     "data": {
      "text/plain": [
       "Index(['Unnamed: 0', 'Alt', 'BOXH', 'EXT', 'EXT_HGF', 'EXT_KAPM', 'RH', 'day',\n",
       "       'ind_ALT', 'lat',\n",
       "       ...\n",
       "       'CMAQ_EXT_Aircraft_TOT_SULF_column_nointerp',\n",
       "       'CMAQ_EXT_Aircraft_TOT_OC_interp', 'CMAQ_EXT_Aircraft_TOT_OC_dist',\n",
       "       'CMAQ_EXT_Aircraft_TOT_OC_column_mass',\n",
       "       'CMAQ_EXT_Aircraft_TOT_OC_RH_noint',\n",
       "       'CMAQ_EXT_Aircraft_TOT_OC_column_nointerp',\n",
       "       'CMAQ_CONC_Aircraft_TOT_interp', 'CONC_TOT',\n",
       "       'CMAQ_ext_Aircraft_MEE_amb', 'CMAQ_ext_Aircraft_MEE_dry'],\n",
       "      dtype='object', length=146)"
      ]
     },
     "execution_count": 36,
     "metadata": {},
     "output_type": "execute_result"
    }
   ],
   "source": [
    "df_CMAQ.columns"
   ]
  },
  {
   "cell_type": "code",
   "execution_count": 37,
   "metadata": {},
   "outputs": [],
   "source": [
    "def calculate_pm(pm_CMAQ, area, avg_MAIAC):\n",
    "    pm = pm_CMAQ/area*avg_MAIAC\n",
    "    return pm"
   ]
  },
  {
   "cell_type": "code",
   "execution_count": 38,
   "metadata": {},
   "outputs": [],
   "source": [
    "def calculate_aod(ext, boxh, interp = False):\n",
    "    if interp:\n",
    "        ext = ext.interpolate(limit_direction = 'both')\n",
    "#     boxh_2 = boxh[boxh<4000]\n",
    "#     print(ext[boxh<4000])\n",
    "    AOD_layer = ext*boxh/1000.\n",
    "    AOD_sum = AOD_layer.sum()\n",
    "    return AOD_sum"
   ]
  },
  {
   "cell_type": "code",
   "execution_count": 39,
   "metadata": {},
   "outputs": [
    {
     "data": {
      "text/plain": [
       "array([ 2,  3,  6, 11, 12, 15, 17, 21, 22, 23, 27, 28, 29, 30])"
      ]
     },
     "execution_count": 39,
     "metadata": {},
     "output_type": "execute_result"
    }
   ],
   "source": [
    "uni_JDAY"
   ]
  },
  {
   "cell_type": "code",
   "execution_count": 40,
   "metadata": {},
   "outputs": [],
   "source": [
    "uni_JDAY = data_merge['day'].unique()\n",
    "label_arr = ['Mass','SULF','OC','Mass_Inter','SULF_Inter','OC_Inter','Column_TOT','Column_SULF','Column_OC','Profile','Profile_SULF','Profile_OC','RH','RH_SULF','RH_OC','MEE']\n",
    "var_str_CMAQ = ['CMAQ_EXT_Aircraft_TOT_interp','CMAQ_EXT_Aircraft_TOT_SULF_interp'\\\n",
    "                ,'CMAQ_EXT_Aircraft_TOT_OC_interp','CMAQ_EXT_Aircraft_TOT_column_mass_TOT','CMAQ_EXT_Aircraft_TOT_SULF_column_mass','CMAQ_EXT_Aircraft_TOT_OC_column_mass',\\\n",
    "                'CMAQ_EXT_Aircraft_TOT_dist','CMAQ_EXT_Aircraft_TOT_SULF_dist','CMAQ_EXT_Aircraft_TOT_OC_dist',\\\n",
    "                'CMAQ_EXT_Aircraft_TOT_RH_noint','CMAQ_EXT_Aircraft_TOT_SULF_RH_noint','CMAQ_EXT_Aircraft_TOT_OC_RH_noint',\\\n",
    "                'CMAQ_ext_Aircraft_MEE_amb']\n",
    "\n",
    "#'CMAQ_EXT_Aircraft_Mass','CMAQ_EXT_Aircraft_TOT_SULF','CMAQ_EXT_Aircraft_TOT_OC',\n",
    "aod_cmaq_all = []\n",
    "pm_cmaq_all = []\n",
    "day_label = []\n",
    "zone_label = []\n",
    "lat_label = []\n",
    "lon_label = []\n",
    "pm_aod_all = []\n",
    "\n",
    "for izone,ilat,ilon in zip(zone_arr,lat_arr,lon_arr):\n",
    "    for jday in uni_JDAY:\n",
    "        day_label.append(jday)\n",
    "        zone_label.append(izone)\n",
    "        lat_label.append(ilat)\n",
    "        lon_label.append(ilon)\n",
    "        data_jday = data_merge[(data_merge['day'] == jday) & (data_merge['zone'] == izone)]\n",
    "        uni_hour = data_jday['t_C'].unique()- (jday-1)*24\n",
    "        lat_site = ilat\n",
    "        lon_site = ilon\n",
    "        uni_level = data_jday['ind_ALT'].unique()\n",
    "\n",
    "        lat_aqs =  data_aqs.loc[(data_aqs.day == jday) & (data_aqs.month == 7) \\\n",
    "                               & (abs(data_aqs.lat- lat_site) < 0.4)  & (abs(data_aqs.lon- lon_site) < 0.4)\\\n",
    "                              ].lat.mean()\n",
    "        lon_aqs =  data_aqs.loc[(data_aqs.day == jday) & (data_aqs.month == 7) \\\n",
    "                               & (abs(data_aqs.lat- lat_site) < 0.4)  & (abs(data_aqs.lon- lon_site) < 0.4)\\\n",
    "                              ].lon.mean()\n",
    "        pm_aqs = data_aqs.loc[(data_aqs.day == jday) & (data_aqs.month == 7) \\\n",
    "                               & (abs(data_aqs.lat- lat_site) < 0.4)  & (abs(data_aqs.lon- lon_site) < 0.4)\\\n",
    "                              ].AQS_PM.mean()\n",
    "        pm_MAIAC = data_aqs.loc[(data_aqs.day == jday) & (data_aqs.month == 7) \\\n",
    "                               & (abs(data_aqs.lat- lat_site) < 0.4)  & (abs(data_aqs.lon- lon_site) < 0.4)\\\n",
    "                              ].MAIAC_PM.mean()\n",
    "        pm_CMAQ = data_aqs.loc[(data_aqs.day == jday) & (data_aqs.month == 7) \\\n",
    "                               & (abs(data_aqs.lat- lat_site) < 0.4)  & (abs(data_aqs.lon- lon_site) < 0.4)\\\n",
    "                              ].CMAQ_PM.mean()\n",
    "        avg_aero = data_aero.loc[(data_aero.day == jday) & (data_aero.month == 7) \\\n",
    "                               & (abs(data_aero.lat- lat_aqs) < 0.2)  & (abs(data_aero.lon- lon_aqs) < 0.2)\\\n",
    "                              ].AOD_551.mean()\n",
    "        avg_MAIAC = data_aero.loc[(data_aero.day == jday) & (data_aero.month == 7) \\\n",
    "                               & (abs(data_aero.lat- lat_aqs) < 0.2)  & (abs(data_aero.lon- lon_aqs) < 0.2)\\\n",
    "                              ].MAIAC_AOD.mean()\n",
    "        avg_CMAQ = data_aero.loc[(data_aero.day == jday) & (data_aero.month == 7) \\\n",
    "                               & (abs(data_aero.lat- lat_aqs) < 0.2)  & (abs(data_aero.lon- lon_aqs) < 0.2)\\\n",
    "                              ].CMAQ_AOD.mean()\n",
    "        pm_obs_rel = avg_MAIAC*pm_aqs/avg_aero\n",
    "        pm_aod_obs = pm_aqs/avg_aero\n",
    "        pm_aod_cmaq = pm_CMAQ/avg_CMAQ\n",
    "\n",
    "    #     print(avg_aqs)\n",
    "        data_composite = data_jday.groupby(['ind_ALT']).mean()  \n",
    "        data_composite = data_composite.reset_index()\n",
    "    #     ax.plot(data_composite['CMAQ_EXT_point_x'], data_composite['ALTP_x'],label = 'CMAQ', c = 'red', linestyle='--')\n",
    "\n",
    "        df_CMAQ_sub = df_CMAQ[(df_CMAQ['day'] == jday) & (df_CMAQ['zone'] == izone)]\n",
    "#         conc_point = \n",
    "        #plot of AOD bar charts\n",
    "        aod_array = [avg_aero,avg_MAIAC,avg_CMAQ]\n",
    "        aod_cmaq = [avg_aero]\n",
    "        cmaq_arr = ['EXT','EXT_HGF','EXT_KAPM']\n",
    "        cmaq_all = [*cmaq_arr, *var_str_CMAQ]\n",
    "#         aod_sen = [calculate_aod(df_CMAQ_sub[item], df_CMAQ_sub['BOXH']) for item in var_str_CMAQ]\n",
    "        for icmaq in cmaq_all:\n",
    "            aod_cmaq.append(calculate_aod(df_CMAQ_sub[icmaq], df_CMAQ_sub['BOXH']))\n",
    "        join_aod_array = [*aod_array, *aod_cmaq]\n",
    "        aod_cmaq_all.append(join_aod_array)\n",
    "        pm_array = [pm_aqs,pm_MAIAC,pm_CMAQ,pm_obs_rel]\n",
    "        pm_sen = [calculate_pm(pm_CMAQ, item, avg_MAIAC) for item in aod_cmaq]\n",
    "        join_pm_array = [*pm_array, *pm_sen]\n",
    "        pm_cmaq_all.append(join_pm_array)\n",
    "        pm_aod_array = [pm_aod_obs,pm_aod_cmaq]\n",
    "        pm_aod_sen = [pm_CMAQ/ia for ia in aod_cmaq]\n",
    "        join_pm_aod_array = [*pm_aod_array, *pm_aod_sen]\n",
    "        pm_aod_all.append(join_pm_aod_array)\n",
    "        label_pm_aod_array = ('Obs','model','AERONET','CMAQ','HGF','KAPM','Mass','SULF','OC','Column_TOT','Column_SULF','Column_OC','Profile','Profile_SULF','Profile_OC','RH','RH_SULF','RH_OC','MEE')\n",
    "        label_aod_array = ['AERONET', 'MAIAC', 'CMAQ_o','AERONET2','CMAQ','HGF','KAPM','Mass','SULF','OC','Column_TOT','Column_SULF','Column_OC','Profile','Profile_SULF','Profile_OC','RH','RH_SULF','RH_OC','MEE']\n",
    "        label_pm_array = ['AQS', 'MAIAC', 'CMAQ_o','Rel','AERONET','CMAQ','HGF','KAPM','Mass','SULF','OC','Column_TOT','Column_SULF','Column_OC','Profile','Profile_SULF','Profile_OC','RH','RH_SULF','RH_OC','MEE']"
   ]
  },
  {
   "cell_type": "code",
   "execution_count": 41,
   "metadata": {},
   "outputs": [],
   "source": [
    "df_aod_all = pd.DataFrame.from_records(aod_cmaq_all, columns=label_aod_array)\n",
    "df_pm_all = pd.DataFrame.from_records(pm_cmaq_all, columns=label_pm_array)\n",
    "df_pm_aod_all = pd.DataFrame.from_records(pm_aod_all, columns=label_pm_aod_array)\n",
    "df_aod_all['Day'] = day_label\n",
    "df_pm_all['Day'] = day_label\n",
    "df_pm_aod_all['Day'] = day_label\n",
    "df_aod_all['lat'] = lat_label\n",
    "df_pm_all['lat'] = lat_label\n",
    "df_pm_aod_all['lat'] = lat_label\n",
    "df_aod_all['lon'] = lon_label\n",
    "df_pm_all['lon'] = lon_label\n",
    "df_pm_aod_all['lon'] = lon_label\n",
    "df_aod_all['zone'] = zone_label\n",
    "df_pm_all['zone'] = zone_label\n",
    "df_pm_aod_all['zone'] = zone_label\n",
    "df_aod_all = df_aod_all.sort_values(by=['Day'])\n",
    "df_pm_all = df_pm_all.sort_values(by=['Day'])\n",
    "df_pm_aod_all = df_pm_aod_all.sort_values(by=['Day'])"
   ]
  },
  {
   "cell_type": "code",
   "execution_count": 42,
   "metadata": {},
   "outputs": [],
   "source": [
    "# df_pm_all = df_pm_all.dropna(subset=['Mass','Column_TOT','Profile'])\n",
    "# df_aod_all = df_aod_all.dropna(subset=['Mass','Column_TOT','Profile'])\n",
    "# df_pm_aod_all = df_pm_aod_all.dropna(subset=['Mass','Column_TOT','Profile'])"
   ]
  },
  {
   "cell_type": "code",
   "execution_count": 43,
   "metadata": {},
   "outputs": [],
   "source": [
    "df_pm_all.to_csv(DIR+'Discover_AQ_data_df_pm_all_species.csv')\n",
    "df_aod_all.to_csv(DIR+'Discover_AQ_data_df_aod_all_species.csv')\n",
    "df_pm_aod_all.to_csv(DIR+'Discover_AQ_data_df_pm_aod_all_species.csv')"
   ]
  },
  {
   "cell_type": "code",
   "execution_count": 44,
   "metadata": {},
   "outputs": [],
   "source": [
    "var_name = ['Mass','SULF','OC','Column_TOT','Column_SULF','Column_OC','Profile','Profile_SULF','Profile_OC','RH','RH_SULF','RH_OC','MEE','AQS']\n",
    "for iv in var_name:\n",
    "    df_pm_all[iv+'dif'] = df_pm_all['MAIAC'] - df_pm_all[iv]"
   ]
  },
  {
   "cell_type": "code",
   "execution_count": 45,
   "metadata": {},
   "outputs": [],
   "source": [
    "var_name = ['Mass','SULF','OC','Column_TOT','Column_SULF','Column_OC','Profile','Profile_SULF','Profile_OC','RH','RH_SULF','RH_OC','MEE','CMAQ','Obs']\n",
    "for iv in var_name:\n",
    "    df_pm_aod_all[iv+'dif'] = df_pm_aod_all[iv] - df_pm_aod_all['CMAQ']"
   ]
  },
  {
   "cell_type": "code",
   "execution_count": 46,
   "metadata": {},
   "outputs": [],
   "source": [
    "df_aod_all['MAIAC_Rel'] = df_pm_all['CMAQ']/df_aod_all['CMAQ']\n",
    "df_aod_all['MAIAC_Rel_ratio'] = df_aod_all['MAIAC_Rel']/(df_pm_all['AQS']/df_aod_all['AERONET'])\n",
    "df_aod_all['Rel_Obs'] = df_aod_all['MAIAC']*(df_pm_all['AQS']/df_aod_all['AERONET'])\n",
    "df_pm_all['Rel_Obsdif'] = (df_pm_all['AQS']/df_aod_all['AERONET'] - df_pm_all['CMAQ']/df_aod_all['CMAQ'])*(df_aod_all['MAIAC'])"
   ]
  },
  {
   "cell_type": "code",
   "execution_count": 47,
   "metadata": {},
   "outputs": [],
   "source": [
    "uni_JDAY = data_merge['day'].unique()\n",
    "label_arr = ['Mass','SULF','OC','Mass_Inter','SULF_Inter','OC_Inter','Column_TOT','Column_SULF','Column_OC','Profile','Profile_SULF','Profile_OC','RH','RH_SULF','RH_OC','MEE']\n",
    "var_str_CMAQ = ['CMAQ_EXT_Aircraft_TOT_interp','CMAQ_EXT_Aircraft_TOT_SULF_interp'\\\n",
    "                ,'CMAQ_EXT_Aircraft_TOT_OC_interp','CMAQ_EXT_Aircraft_TOT_column_mass_TOT','CMAQ_EXT_Aircraft_TOT_SULF_column_mass','CMAQ_EXT_Aircraft_TOT_OC_column_mass',\\\n",
    "                'CMAQ_EXT_Aircraft_TOT_dist','CMAQ_EXT_Aircraft_TOT_SULF_dist','CMAQ_EXT_Aircraft_TOT_OC_dist',\\\n",
    "                'CMAQ_EXT_Aircraft_TOT_RH_noint','CMAQ_EXT_Aircraft_TOT_SULF_RH_noint','CMAQ_EXT_Aircraft_TOT_OC_RH_noint',\\\n",
    "                'CMAQ_ext_Aircraft_MEE_amb']\n",
    "\n",
    "#'CMAQ_EXT_Aircraft_Mass','CMAQ_EXT_Aircraft_TOT_SULF','CMAQ_EXT_Aircraft_TOT_OC',\n",
    "aod_cmaq_day = []\n",
    "pm_cmaq_day = []\n",
    "day_label = []\n",
    "# zone_label = []\n",
    "# lat_label = []\n",
    "# lon_label = []\n",
    "pm_aod_day = []\n",
    "\n",
    "# for izone,ilat,ilon in zip(zone_arr,lat_arr,lon_arr):\n",
    "for jday in uni_JDAY:\n",
    "    day_label.append(jday)\n",
    "#     zone_label.append(izone)\n",
    "#     lat_label.append(ilat)\n",
    "#     lon_label.append(ilon)\n",
    "    data_jday = data_merge[(data_merge['day'] == jday) ]\n",
    "    uni_hour = data_jday['t_C'].unique()- (jday-1)*24\n",
    "    lat_site = ilat\n",
    "    lon_site = ilon\n",
    "    uni_level = data_jday['ind_ALT'].unique()\n",
    "\n",
    "    lat_aqs =  data_aqs.loc[(data_aqs.day == jday) & (data_aqs.month == 7) \\\n",
    "                           & (abs(data_aqs.lat- lat_site) < 0.4)  & (abs(data_aqs.lon- lon_site) < 0.4)\\\n",
    "                          ].lat.mean()\n",
    "    lon_aqs =  data_aqs.loc[(data_aqs.day == jday) & (data_aqs.month == 7) \\\n",
    "                           & (abs(data_aqs.lat- lat_site) < 0.4)  & (abs(data_aqs.lon- lon_site) < 0.4)\\\n",
    "                          ].lon.mean()\n",
    "    pm_aqs = data_aqs.loc[(data_aqs.day == jday) & (data_aqs.month == 7) \\\n",
    "                           & (abs(data_aqs.lat- lat_site) < 0.4)  & (abs(data_aqs.lon- lon_site) < 0.4)\\\n",
    "                          ].AQS_PM.mean()\n",
    "    pm_MAIAC = data_aqs.loc[(data_aqs.day == jday) & (data_aqs.month == 7) \\\n",
    "                           & (abs(data_aqs.lat- lat_site) < 0.4)  & (abs(data_aqs.lon- lon_site) < 0.4)\\\n",
    "                          ].MAIAC_PM.mean()\n",
    "    pm_CMAQ = data_aqs.loc[(data_aqs.day == jday) & (data_aqs.month == 7) \\\n",
    "                           & (abs(data_aqs.lat- lat_site) < 0.4)  & (abs(data_aqs.lon- lon_site) < 0.4)\\\n",
    "                          ].CMAQ_PM.mean()\n",
    "    avg_aero = data_aero.loc[(data_aero.day == jday) & (data_aero.month == 7) \\\n",
    "                           & (abs(data_aero.lat- lat_aqs) < 0.2)  & (abs(data_aero.lon- lon_aqs) < 0.2)\\\n",
    "                          ].AOD_551.mean()\n",
    "    avg_MAIAC = data_aero.loc[(data_aero.day == jday) & (data_aero.month == 7) \\\n",
    "                           & (abs(data_aero.lat- lat_aqs) < 0.2)  & (abs(data_aero.lon- lon_aqs) < 0.2)\\\n",
    "                          ].MAIAC_AOD.mean()\n",
    "    avg_CMAQ = data_aero.loc[(data_aero.day == jday) & (data_aero.month == 7) \\\n",
    "                           & (abs(data_aero.lat- lat_aqs) < 0.2)  & (abs(data_aero.lon- lon_aqs) < 0.2)\\\n",
    "                          ].CMAQ_AOD.mean()\n",
    "    pm_obs_rel = avg_MAIAC*pm_aqs/avg_aero\n",
    "    pm_aod_obs = pm_aqs/avg_aero\n",
    "    pm_aod_cmaq = pm_CMAQ/avg_CMAQ\n",
    "\n",
    "#     print(avg_aqs)\n",
    "    data_composite = data_jday.groupby(['ind_ALT']).mean()  \n",
    "    data_composite = data_composite.reset_index()\n",
    "#     ax.plot(data_composite['CMAQ_EXT_point_x'], data_composite['ALTP_x'],label = 'CMAQ', c = 'red', linestyle='--')\n",
    "\n",
    "    df_CMAQ_sub = df_CMAQ[(df_CMAQ['day'] == jday)]\n",
    "#         conc_point = \n",
    "    #plot of AOD bar charts\n",
    "    aod_array = [avg_aero,avg_MAIAC,avg_CMAQ]\n",
    "    aod_cmaq = [avg_aero]\n",
    "    cmaq_arr = ['EXT','EXT_HGF','EXT_KAPM']\n",
    "    cmaq_day = [*cmaq_arr, *var_str_CMAQ]\n",
    "#         aod_sen = [calculate_aod(df_CMAQ_sub[item], df_CMAQ_sub['BOXH']) for item in var_str_CMAQ]\n",
    "    for icmaq in cmaq_day:\n",
    "        aod_cmaq.append(calculate_aod(df_CMAQ_sub[icmaq], df_CMAQ_sub['BOXH']))\n",
    "    join_aod_array = [*aod_array, *aod_cmaq]\n",
    "    aod_cmaq_day.append(join_aod_array)\n",
    "    pm_array = [pm_aqs,pm_MAIAC,pm_CMAQ,pm_obs_rel]\n",
    "    pm_sen = [calculate_pm(pm_CMAQ, item, avg_MAIAC) for item in aod_cmaq]\n",
    "    join_pm_array = [*pm_array, *pm_sen]\n",
    "    pm_cmaq_day.append(join_pm_array)\n",
    "    pm_aod_array = [pm_aod_obs,pm_aod_cmaq]\n",
    "    pm_aod_sen = [pm_CMAQ/ia for ia in aod_cmaq]\n",
    "    join_pm_aod_array = [*pm_aod_array, *pm_aod_sen]\n",
    "    pm_aod_day.append(join_pm_aod_array)\n",
    "    label_pm_aod_array = ('Obs','model','AERONET','CMAQ','HGF','KAPM','Mass','SULF','OC','Column_TOT','Column_SULF','Column_OC','Profile','Profile_SULF','Profile_OC','RH','RH_SULF','RH_OC','MEE')\n",
    "    label_aod_array = ['AERONET', 'MAIAC', 'CMAQ_o','AERONET2','CMAQ','HGF','KAPM','Mass','SULF','OC','Column_TOT','Column_SULF','Column_OC','Profile','Profile_SULF','Profile_OC','RH','RH_SULF','RH_OC','MEE']\n",
    "    label_pm_array = ['AQS', 'MAIAC', 'CMAQ_o','Rel','AERONET','CMAQ','HGF','KAPM','Mass','SULF','OC','Column_TOT','Column_SULF','Column_OC','Profile','Profile_SULF','Profile_OC','RH','RH_SULF','RH_OC','MEE']"
   ]
  },
  {
   "cell_type": "code",
   "execution_count": null,
   "metadata": {},
   "outputs": [],
   "source": []
  },
  {
   "cell_type": "code",
   "execution_count": 48,
   "metadata": {},
   "outputs": [],
   "source": [
    "df_aod_day = pd.DataFrame.from_records(aod_cmaq_day, columns=label_aod_array)\n",
    "df_pm_day = pd.DataFrame.from_records(pm_cmaq_day, columns=label_pm_array)\n",
    "df_pm_aod_day = pd.DataFrame.from_records(pm_aod_day, columns=label_pm_aod_array)\n",
    "df_aod_day['Day'] = day_label\n",
    "df_pm_day['Day'] = day_label\n",
    "df_pm_aod_day['Day'] = day_label\n",
    "df_aod_day = df_aod_day.sort_values(by=['Day'])\n",
    "df_pm_day = df_pm_day.sort_values(by=['Day'])\n",
    "df_pm_aod_day = df_pm_aod_day.sort_values(by=['Day'])"
   ]
  },
  {
   "cell_type": "code",
   "execution_count": 49,
   "metadata": {},
   "outputs": [],
   "source": [
    "df_aod_day = df_aod_all.groupby('Day').mean()\n",
    "df_pm_day = df_pm_all.groupby('Day').mean()"
   ]
  },
  {
   "cell_type": "code",
   "execution_count": 50,
   "metadata": {},
   "outputs": [],
   "source": [
    "df_pm_aod_all= df_pm_aod_all.dropna(subset=['Obs'])"
   ]
  },
  {
   "cell_type": "code",
   "execution_count": 51,
   "metadata": {},
   "outputs": [],
   "source": [
    "df_pm_day = df_pm_day.reset_index()"
   ]
  },
  {
   "cell_type": "code",
   "execution_count": 52,
   "metadata": {},
   "outputs": [
    {
     "data": {
      "text/plain": [
       "Text(0.96,0.95,'All')"
      ]
     },
     "execution_count": 52,
     "metadata": {},
     "output_type": "execute_result"
    },
    {
     "data": {
      "image/png": "[encoded data removed]",
      "text/plain": [
       "<Figure size 1200x500 with 1 Axes>"
      ]
     },
     "metadata": {},
     "output_type": "display_data"
    }
   ],
   "source": [
    "mylist = ['Mass','SULF','OC','Column_TOT','Column_SULF','Column_OC','Profile','Profile_SULF','Profile_OC','RH','RH_SULF','RH_OC','MEE']\n",
    "var_name = [s + 'dif' for s in mylist]\n",
    "var_name.append('Rel_Obsdif')\n",
    "var_name2 = [s + 'dif' for s in mylist]\n",
    "var_name2.append('Rel_Obsdif')\n",
    "var_name.append('Day')\n",
    "df = df_pm_all[abs(df_pm_all['Rel_Obsdif']) < 30][var_name]\n",
    "# var_name = [var_name, 'Day']\n",
    "\n",
    "# var_name = ['Massdif','Columndif','Distributiondif','MEEdif','RHdif','Rel_Obsdif','Day']\n",
    "# df = df.rename(columns = {'Massdif':'Mass','Columndif':'Column','Distributiondif':'Profile','MEEdif':'MEE','RHdif':'RH','Rel_Obsdif':'PM$_{2.5}$/AOD','Day':'Day'})\n",
    "sns.set(color_codes=True, font_scale = 2)\n",
    "color_arr = sns.color_palette(\"Set2\", 8)\n",
    "color_arr_sub = color_arr[2:8]\n",
    "color_arr_all = []\n",
    "for iv in color_arr_sub[0:4]:\n",
    "    for ic in range(0,3):\n",
    "        color_arr_all.append(iv)\n",
    "color_arr_all.append(color_arr[6])\n",
    "color_arr_all.append(color_arr[7])\n",
    "meanpointprops = dict( markerfacecolor='red', markersize=10)\n",
    "\n",
    "\n",
    "tidy_PM = (\n",
    "    df.set_index('Day')\n",
    "      .stack()  # un-pivots the data \n",
    "      .reset_index()  # moves all data out of the index\n",
    "      .rename(columns={'level_1': 'Variable', 0: 'Value'})\n",
    ")\n",
    "\n",
    "# df_pm_all[var_name].boxplot()\n",
    "sns.set(color_codes=True, font_scale = 2)\n",
    "sns.set_style(\"ticks\", {\"xtick.major.size\": 5, \"ytick.major.size\": 5})\n",
    "fig, ax = plt.subplots(figsize=(12, 5), dpi = 100)\n",
    "# ax = axarr[0]\n",
    "sns.boxplot(x = 'Variable', y = 'Value',  data =tidy_PM,  ax = ax, palette = color_arr_all, showmeans = True, showfliers=False, meanprops = meanpointprops, order = var_name2)\n",
    "ax.axhline(0, color='k',linestyle = '--',linewidth = 1.5)\n",
    "\n",
    "ax.set_xlabel('');\n",
    "ax.set_ylabel('$\\Delta$ PM$_{2.5}$ (µg/$m^3$)');\n",
    "ax.set_title('');\n",
    "ax.axvline(12.5, color='black',alpha = 0.8)\n",
    "ax.axvline(11.5, color='black',alpha = 0.8)\n",
    "ax.axvline(8.5, color='black',alpha = 0.8)\n",
    "ax.axvline(5.5, color='black',alpha = 0.8)\n",
    "ax.axvline(2.5, color='black',alpha = 0.8)\n",
    "\n",
    "\n",
    "x = [1, 4, 7, 10, 12, 13]\n",
    "labels = ['Mass', 'Column','Profile','RH','MEE','Rel']\n",
    "\n",
    "plt.xticks(x, labels)\n",
    "\n",
    "ax.tick_params(which='minor', length=4, color='r')\n",
    "\n",
    "for i in range(0,4):\n",
    "    ax.text(0.025+i*0.215, 0.95,'All', ha='center', va='center', transform=ax.transAxes, color = 'black')\n",
    "    ax.text(0.100+i*0.215, 0.95,'SNA', ha='center', va='center', transform=ax.transAxes, color = 'black')\n",
    "    ax.text(0.180+i*0.215, 0.95,'OC', ha='center', va='center', transform=ax.transAxes, color = 'black')\n",
    "\n",
    "ax.text(0.025+4*0.215, 0.95,'All', ha='center', va='center', transform=ax.transAxes, color = 'black')\n",
    "ax.text(0.1+4*0.215, 0.95,'All', ha='center', va='center', transform=ax.transAxes, color = 'black')\n",
    "\n",
    "# for tick in ax.get_xticklabels():\n",
    "#     tick.set_rotation(90)\n",
    "    \n",
    "# var_name = ['Column_Rel_ratio','Distribution_Rel_ratio','MEE_Rel_ratio','RH_Rel_ratio','Day']\n",
    "# df = df_aod_all[var_name]\n",
    "# df = df.rename(columns = {'Column_Rel_ratio':'Column','Distribution_Rel_ratio':'Profile','MEE_Rel_ratio':'MEE','RH_Rel_ratio':'RH','Day':'Day'})\n",
    "\n",
    "# tidy_AOD = (\n",
    "#     df.set_index('Day')\n",
    "#       .stack()  # un-pivots the data \n",
    "#       .reset_index()  # moves all data out of the index\n",
    "#       .rename(columns={'level_1': 'Variable', 0: 'Value'})\n",
    "# )\n",
    "# ax.yaxis.tick_right()\n",
    "# ax.set_aspect('auto')\n",
    "# ax.yaxis.set_label_position('right')\n",
    "\n"
   ]
  },
  {
   "cell_type": "code",
   "execution_count": 53,
   "metadata": {},
   "outputs": [
    {
     "data": {
      "text/html": [
       "<div>\n",
       "<style scoped>\n",
       "    .dataframe tbody tr th:only-of-type {\n",
       "        vertical-align: middle;\n",
       "    }\n",
       "\n",
       "    .dataframe tbody tr th {\n",
       "        vertical-align: top;\n",
       "    }\n",
       "\n",
       "    .dataframe thead th {\n",
       "        text-align: right;\n",
       "    }\n",
       "</style>\n",
       "<table border=\"1\" class=\"dataframe\">\n",
       "  <thead>\n",
       "    <tr style=\"text-align: right;\">\n",
       "      <th></th>\n",
       "      <th>Massdif</th>\n",
       "      <th>SULFdif</th>\n",
       "      <th>OCdif</th>\n",
       "      <th>Column_TOTdif</th>\n",
       "      <th>Column_SULFdif</th>\n",
       "      <th>Column_OCdif</th>\n",
       "      <th>Profiledif</th>\n",
       "      <th>Profile_SULFdif</th>\n",
       "      <th>Profile_OCdif</th>\n",
       "      <th>RHdif</th>\n",
       "      <th>RH_SULFdif</th>\n",
       "      <th>RH_OCdif</th>\n",
       "      <th>MEEdif</th>\n",
       "      <th>Rel_Obsdif</th>\n",
       "      <th>Day</th>\n",
       "    </tr>\n",
       "  </thead>\n",
       "  <tbody>\n",
       "    <tr>\n",
       "      <th>count</th>\n",
       "      <td>41.000000</td>\n",
       "      <td>41.000000</td>\n",
       "      <td>41.000000</td>\n",
       "      <td>41.000000</td>\n",
       "      <td>41.000000</td>\n",
       "      <td>41.000000</td>\n",
       "      <td>41.000000</td>\n",
       "      <td>41.000000</td>\n",
       "      <td>41.000000</td>\n",
       "      <td>41.000000</td>\n",
       "      <td>41.000000</td>\n",
       "      <td>41.000000</td>\n",
       "      <td>41.000000</td>\n",
       "      <td>44.000000</td>\n",
       "      <td>44.000000</td>\n",
       "    </tr>\n",
       "    <tr>\n",
       "      <th>mean</th>\n",
       "      <td>0.051794</td>\n",
       "      <td>-2.485840</td>\n",
       "      <td>1.877192</td>\n",
       "      <td>-0.666660</td>\n",
       "      <td>-4.116289</td>\n",
       "      <td>6.670771</td>\n",
       "      <td>1.088918</td>\n",
       "      <td>1.175256</td>\n",
       "      <td>-0.483648</td>\n",
       "      <td>-1.680099</td>\n",
       "      <td>-0.669484</td>\n",
       "      <td>-0.563436</td>\n",
       "      <td>0.629787</td>\n",
       "      <td>-0.911979</td>\n",
       "      <td>19.840909</td>\n",
       "    </tr>\n",
       "    <tr>\n",
       "      <th>std</th>\n",
       "      <td>4.377605</td>\n",
       "      <td>4.735540</td>\n",
       "      <td>4.254039</td>\n",
       "      <td>3.650509</td>\n",
       "      <td>5.580764</td>\n",
       "      <td>4.375805</td>\n",
       "      <td>4.958891</td>\n",
       "      <td>4.954129</td>\n",
       "      <td>5.143396</td>\n",
       "      <td>7.472684</td>\n",
       "      <td>6.605070</td>\n",
       "      <td>5.027154</td>\n",
       "      <td>4.283625</td>\n",
       "      <td>9.796628</td>\n",
       "      <td>7.168871</td>\n",
       "    </tr>\n",
       "    <tr>\n",
       "      <th>min</th>\n",
       "      <td>-10.026508</td>\n",
       "      <td>-19.852705</td>\n",
       "      <td>-8.199487</td>\n",
       "      <td>-8.898468</td>\n",
       "      <td>-15.640392</td>\n",
       "      <td>0.868695</td>\n",
       "      <td>-8.503861</td>\n",
       "      <td>-8.406419</td>\n",
       "      <td>-12.220950</td>\n",
       "      <td>-21.305748</td>\n",
       "      <td>-19.154120</td>\n",
       "      <td>-13.003695</td>\n",
       "      <td>-12.274330</td>\n",
       "      <td>-29.502141</td>\n",
       "      <td>3.000000</td>\n",
       "    </tr>\n",
       "    <tr>\n",
       "      <th>25%</th>\n",
       "      <td>-2.718123</td>\n",
       "      <td>-5.114215</td>\n",
       "      <td>-0.168307</td>\n",
       "      <td>-3.202533</td>\n",
       "      <td>-8.550608</td>\n",
       "      <td>3.888103</td>\n",
       "      <td>-3.699207</td>\n",
       "      <td>-3.694131</td>\n",
       "      <td>-2.347624</td>\n",
       "      <td>-5.895918</td>\n",
       "      <td>-3.692560</td>\n",
       "      <td>-2.431868</td>\n",
       "      <td>-1.556913</td>\n",
       "      <td>-3.020293</td>\n",
       "      <td>14.250000</td>\n",
       "    </tr>\n",
       "    <tr>\n",
       "      <th>50%</th>\n",
       "      <td>0.032448</td>\n",
       "      <td>-1.902515</td>\n",
       "      <td>2.003690</td>\n",
       "      <td>-1.138298</td>\n",
       "      <td>-3.224275</td>\n",
       "      <td>5.049247</td>\n",
       "      <td>2.015306</td>\n",
       "      <td>2.105681</td>\n",
       "      <td>1.080151</td>\n",
       "      <td>-1.205110</td>\n",
       "      <td>-0.321499</td>\n",
       "      <td>0.743328</td>\n",
       "      <td>0.866599</td>\n",
       "      <td>1.612724</td>\n",
       "      <td>21.500000</td>\n",
       "    </tr>\n",
       "    <tr>\n",
       "      <th>75%</th>\n",
       "      <td>2.704892</td>\n",
       "      <td>0.165668</td>\n",
       "      <td>3.974495</td>\n",
       "      <td>1.612281</td>\n",
       "      <td>0.642091</td>\n",
       "      <td>8.751535</td>\n",
       "      <td>4.849263</td>\n",
       "      <td>4.877155</td>\n",
       "      <td>3.068478</td>\n",
       "      <td>4.664865</td>\n",
       "      <td>4.582404</td>\n",
       "      <td>2.790243</td>\n",
       "      <td>3.053894</td>\n",
       "      <td>5.792926</td>\n",
       "      <td>27.000000</td>\n",
       "    </tr>\n",
       "    <tr>\n",
       "      <th>max</th>\n",
       "      <td>10.778479</td>\n",
       "      <td>5.394481</td>\n",
       "      <td>12.361671</td>\n",
       "      <td>9.443009</td>\n",
       "      <td>5.599268</td>\n",
       "      <td>22.144107</td>\n",
       "      <td>10.232847</td>\n",
       "      <td>10.304719</td>\n",
       "      <td>7.620833</td>\n",
       "      <td>8.059904</td>\n",
       "      <td>8.046385</td>\n",
       "      <td>7.328316</td>\n",
       "      <td>11.048786</td>\n",
       "      <td>10.872469</td>\n",
       "      <td>30.000000</td>\n",
       "    </tr>\n",
       "  </tbody>\n",
       "</table>\n",
       "</div>"
      ],
      "text/plain": [
       "         Massdif    SULFdif      OCdif  Column_TOTdif  Column_SULFdif  \\\n",
       "count  41.000000  41.000000  41.000000      41.000000       41.000000   \n",
       "mean    0.051794  -2.485840   1.877192      -0.666660       -4.116289   \n",
       "std     4.377605   4.735540   4.254039       3.650509        5.580764   \n",
       "min   -10.026508 -19.852705  -8.199487      -8.898468      -15.640392   \n",
       "25%    -2.718123  -5.114215  -0.168307      -3.202533       -8.550608   \n",
       "50%     0.032448  -1.902515   2.003690      -1.138298       -3.224275   \n",
       "75%     2.704892   0.165668   3.974495       1.612281        0.642091   \n",
       "max    10.778479   5.394481  12.361671       9.443009        5.599268   \n",
       "\n",
       "       Column_OCdif  Profiledif  Profile_SULFdif  Profile_OCdif      RHdif  \\\n",
       "count     41.000000   41.000000        41.000000      41.000000  41.000000   \n",
       "mean       6.670771    1.088918         1.175256      -0.483648  -1.680099   \n",
       "std        4.375805    4.958891         4.954129       5.143396   7.472684   \n",
       "min        0.868695   -8.503861        -8.406419     -12.220950 -21.305748   \n",
       "25%        3.888103   -3.699207        -3.694131      -2.347624  -5.895918   \n",
       "50%        5.049247    2.015306         2.105681       1.080151  -1.205110   \n",
       "75%        8.751535    4.849263         4.877155       3.068478   4.664865   \n",
       "max       22.144107   10.232847        10.304719       7.620833   8.059904   \n",
       "\n",
       "       RH_SULFdif   RH_OCdif     MEEdif  Rel_Obsdif        Day  \n",
       "count   41.000000  41.000000  41.000000   44.000000  44.000000  \n",
       "mean    -0.669484  -0.563436   0.629787   -0.911979  19.840909  \n",
       "std      6.605070   5.027154   4.283625    9.796628   7.168871  \n",
       "min    -19.154120 -13.003695 -12.274330  -29.502141   3.000000  \n",
       "25%     -3.692560  -2.431868  -1.556913   -3.020293  14.250000  \n",
       "50%     -0.321499   0.743328   0.866599    1.612724  21.500000  \n",
       "75%      4.582404   2.790243   3.053894    5.792926  27.000000  \n",
       "max      8.046385   7.328316  11.048786   10.872469  30.000000  "
      ]
     },
     "execution_count": 53,
     "metadata": {},
     "output_type": "execute_result"
    }
   ],
   "source": [
    "df.describe()"
   ]
  },
  {
   "cell_type": "code",
   "execution_count": 54,
   "metadata": {},
   "outputs": [
    {
     "data": {
      "image/png": "[encoded data removed]",
      "text/plain": [
       "<Figure size 1200x600 with 1 Axes>"
      ]
     },
     "metadata": {},
     "output_type": "display_data"
    }
   ],
   "source": [
    "var_name = ['Massdif','Column_TOTdif','Profiledif','MEEdif','RHdif','Rel_Obsdif','Day']\n",
    "df_sub = df_pm_all[(df_pm_all['Rel_Obsdif'] < 30) & (df_pm_all['Rel_Obsdif'] > -30)][var_name]\n",
    "df = df_sub[var_name]\n",
    "df = df.rename(columns = {'Massdif':'Mass','Column_TOTdif':'Column','Profiledif':'Profile','MEEdif':'MEE','RHdif':'RH','Rel_Obsdif':'PM$_{2.5}$/AOD','Day':'Day'})\n",
    "sns.set(color_codes=True, font_scale = 2)\n",
    "color_arr = sns.color_palette(\"Set2\", 8)\n",
    "color_arr_sub = color_arr[2:8]\n",
    "meanpointprops = dict( markerfacecolor='red', markersize=10)\n",
    "\n",
    "\n",
    "tidy_PM = (\n",
    "    df.set_index('Day')\n",
    "      .stack()  # un-pivots the data \n",
    "      .reset_index()  # moves all data out of the index\n",
    "      .rename(columns={'level_1': 'Variable', 0: 'Value'})\n",
    ")\n",
    "\n",
    "# df_pm_all[var_name].boxplot()\n",
    "sns.set(color_codes=True, font_scale = 2)\n",
    "sns.set_style(\"ticks\", {\"xtick.major.size\": 5, \"ytick.major.size\": 5})\n",
    "fig, ax = plt.subplots(figsize=(12, 6), dpi = 100)\n",
    "# ax = axarr[0]\n",
    "sns.boxplot(x = 'Variable', y = 'Value', data =tidy_PM,  ax = ax, palette = color_arr_sub, showmeans = True, showfliers=False, meanprops = meanpointprops)\n",
    "ax.axhline(0, color='k',linestyle = '--',linewidth = 1.5)\n",
    "\n",
    "ax.set_xlabel('');\n",
    "ax.set_ylabel('$\\Delta$ PM$_{2.5}$ (µg/$m^3$)');\n",
    "ax.set_title('');\n",
    "ax.axvline(4.5, color='black',alpha = 0.8)\n",
    "\n",
    "\n",
    "for tick in ax.get_xticklabels():\n",
    "    tick.set_rotation(0)\n",
    "    \n",
    "# var_name = ['Column_Rel_ratio','Distribution_Rel_ratio','MEE_Rel_ratio','RH_Rel_ratio','Day']\n",
    "# df = df_aod_all[var_name]\n",
    "# df = df.rename(columns = {'Column_Rel_ratio':'Column','Distribution_Rel_ratio':'Profile','MEE_Rel_ratio':'MEE','RH_Rel_ratio':'RH','Day':'Day'})\n",
    "\n",
    "# tidy_AOD = (\n",
    "#     df.set_index('Day')\n",
    "#       .stack()  # un-pivots the data \n",
    "#       .reset_index()  # moves all data out of the index\n",
    "#       .rename(columns={'level_1': 'Variable', 0: 'Value'})\n",
    "# )\n",
    "# ax.yaxis.tick_right()\n",
    "# ax.set_aspect('auto')\n",
    "# ax.yaxis.set_label_position('right')\n",
    "\n"
   ]
  },
  {
   "cell_type": "code",
   "execution_count": 55,
   "metadata": {},
   "outputs": [],
   "source": [
    "var_name = ['Mass','SULF','OC','Column_TOT','Column_SULF','Column_OC','Profile','Profile_SULF','Profile_OC','RH','RH_SULF','RH_OC','MEE','Obs']\n",
    "for iv in var_name:\n",
    "    df_pm_aod_all[iv+'dif'] = df_pm_aod_all[iv] -  df_pm_aod_all['CMAQ']"
   ]
  },
  {
   "cell_type": "code",
   "execution_count": 56,
   "metadata": {},
   "outputs": [],
   "source": [
    "df_pm_aod_all= df_pm_aod_all.dropna(subset=['Obsdif'])"
   ]
  },
  {
   "cell_type": "code",
   "execution_count": 62,
   "metadata": {
    "scrolled": false
   },
   "outputs": [],
   "source": [
    "r_pm_aod = []\n",
    "var_arr =['Mass','SULF','OC','Column_TOT','Column_SULF','Column_OC','Profile','Profile_SULF','Profile_OC','RH','RH_SULF','RH_OC','MEE']\n",
    "\n",
    "for il,iv in zip(var_arr, dif_arr):\n",
    "    x = df_pm_aod_all.dropna(subset=[iv])[iv]\n",
    "    y = df_pm_aod_all.dropna(subset=[iv])['Obsdif']\n",
    "    results = sm.OLS(y,sm.add_constant(x)).fit()\n",
    "    if (results.params[iv] > 0):\n",
    "        r_pm_aod.append(results.rsquared**0.5)\n",
    "    else:\n",
    "        r_pm_aod.append(-1*results.rsquared**0.5)\n"
   ]
  },
  {
   "cell_type": "code",
   "execution_count": 63,
   "metadata": {},
   "outputs": [
    {
     "data": {
      "text/plain": [
       "[0.81967093631782983,\n",
       " 0.78087805210673888,\n",
       " 0.81459211115254371,\n",
       " 0.79048501832926787,\n",
       " 0.75332849001682101,\n",
       " 0.8295579581501048,\n",
       " 0.27862019338785204,\n",
       " 0.28256797961244362,\n",
       " -0.62814239204352751,\n",
       " -0.25381753211770913,\n",
       " -0.26753404539870806,\n",
       " -0.30557410186899753,\n",
       " 0.55700625841268403]"
      ]
     },
     "execution_count": 63,
     "metadata": {},
     "output_type": "execute_result"
    }
   ],
   "source": [
    "r_pm_aod"
   ]
  },
  {
   "cell_type": "code",
   "execution_count": 64,
   "metadata": {},
   "outputs": [
    {
     "data": {
      "text/plain": [
       "<matplotlib.lines.Line2D at 0x2b7827217748>"
      ]
     },
     "execution_count": 64,
     "metadata": {},
     "output_type": "execute_result"
    },
    {
     "data": {
      "image/png": "[encoded data removed]",
      "text/plain": [
       "<Figure size 1100x500 with 1 Axes>"
      ]
     },
     "metadata": {},
     "output_type": "display_data"
    }
   ],
   "source": [
    "value = r_pm_aod\n",
    "# value[4]  = -1*value[4] \n",
    "sns.set(color_codes=True, font_scale = 2)\n",
    "color_arr_all = []\n",
    "for iv in color_arr_sub[0:4]:\n",
    "    for ic in range(0,3):\n",
    "        color_arr_all.append(iv)\n",
    "color_arr_all.append(color_arr[6])\n",
    "color_arr_all.append(color_arr[7])\n",
    "\n",
    "\n",
    "# df_pm_all[var_name].boxplot()\n",
    "# sns.set(color_codes=True, font_scale = 1.18)\n",
    "sns.set_style(\"ticks\", {\"xtick.major.size\": 5, \"ytick.major.size\": 5})\n",
    "fig, ax = plt.subplots(figsize=(11, 5), dpi = 100)\n",
    "df = pd.DataFrame({'Var':['Mass','SULF','OC','Column_TOT','Column_SULF','Column_OC','Profile','Profile_SULF','Profile_OC','MEE','RH','RH_SULF','RH_OC'], 'R':value})\n",
    "df.plot.bar(ax = ax, x='Var', y='R', rot=0, color = color_arr_all)\n",
    "ax.set_xlabel('')\n",
    "ax.set_ylabel('R with $\\Delta  (PM_{2.5}/AOD$)')\n",
    "ax.legend_.remove()\n",
    "ax.set_ylim(-0.7, 1.0)\n",
    "ax.axhline(0, color='black',alpha = 0.9)\n",
    "\n",
    "x = [1, 4, 7, 10, 12]\n",
    "labels = ['Mass', 'Column','Profile','RH','MEE']\n",
    "\n",
    "plt.xticks(x, labels)\n",
    "\n",
    "ax.tick_params(which='minor', length=4, color='r')\n",
    "\n",
    "for i in range(0,4):\n",
    "    ax.text(0.025+i*0.23, 0.95,'All', ha='center', va='center', transform=ax.transAxes, color = 'black', fontsize = 20)\n",
    "    ax.text(0.105+i*0.23, 0.95,'SNA', ha='center', va='center', transform=ax.transAxes, color = 'black', fontsize = 20)\n",
    "    ax.text(0.190+i*0.23, 0.95,'OC', ha='center', va='center', transform=ax.transAxes, color = 'black', fontsize = 20)\n",
    "\n",
    "ax.text(0.11+4*0.215, 0.95,'All', ha='center', va='center', transform=ax.transAxes, color = 'black')\n",
    "\n",
    "ax.axvline(12.5, color='black',alpha = 0.8)\n",
    "ax.axvline(11.5, color='black',alpha = 0.8)\n",
    "ax.axvline(8.5, color='black',alpha = 0.8)\n",
    "ax.axvline(5.5, color='black',alpha = 0.8)\n",
    "ax.axvline(2.5, color='black',alpha = 0.8)\n"
   ]
  },
  {
   "cell_type": "code",
   "execution_count": null,
   "metadata": {},
   "outputs": [],
   "source": []
  }
 ],
 "metadata": {
  "kernelspec": {
   "display_name": "Python 3",
   "language": "python",
   "name": "python3"
  },
  "language_info": {
   "codemirror_mode": {
    "name": "ipython",
    "version": 3
   },
   "file_extension": ".py",
   "mimetype": "text/x-python",
   "name": "python",
   "nbconvert_exporter": "python",
   "pygments_lexer": "ipython3",
   "version": "3.6.3"
  }
 },
 "nbformat": 4,
 "nbformat_minor": 2
}
